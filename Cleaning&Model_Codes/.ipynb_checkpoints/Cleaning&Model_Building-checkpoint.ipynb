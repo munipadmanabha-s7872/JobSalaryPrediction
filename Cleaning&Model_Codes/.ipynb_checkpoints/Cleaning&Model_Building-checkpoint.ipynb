{
 "cells": [
  {
   "cell_type": "code",
   "execution_count": 1,
   "metadata": {},
   "outputs": [],
   "source": [
    "#importing required libraries\n",
    "import pandas as pd\n",
    "import numpy as np"
   ]
  },
  {
   "cell_type": "code",
   "execution_count": 2,
   "metadata": {},
   "outputs": [],
   "source": [
    "scrapped_data = pd.read_csv('C:/Users/300297872/Desktop/JaneApp/Sindhu/JobSalaryPrediction/Data Files/Final_Scrapped_Data.csv')"
   ]
  },
  {
   "cell_type": "code",
   "execution_count": 3,
   "metadata": {},
   "outputs": [
    {
     "data": {
      "text/plain": [
       "(2357, 8)"
      ]
     },
     "execution_count": 3,
     "metadata": {},
     "output_type": "execute_result"
    }
   ],
   "source": [
    "scrapped_data.shape"
   ]
  },
  {
   "cell_type": "code",
   "execution_count": 4,
   "metadata": {},
   "outputs": [
    {
     "data": {
      "text/plain": [
       "Index(['Unnamed: 0', 'Unnamed: 0.1', 'Job_Title', 'Company', 'Job_Location',\n",
       "       'Salaries', 'Job_Link', 'Job_Description'],\n",
       "      dtype='object')"
      ]
     },
     "execution_count": 4,
     "metadata": {},
     "output_type": "execute_result"
    }
   ],
   "source": [
    "scrapped_data.columns"
   ]
  },
  {
   "cell_type": "code",
   "execution_count": 5,
   "metadata": {},
   "outputs": [],
   "source": [
    "req_data = scrapped_data[['Job_Title','Salaries','Job_Description']]"
   ]
  },
  {
   "cell_type": "code",
   "execution_count": 6,
   "metadata": {},
   "outputs": [],
   "source": [
    "req_data = req_data.dropna()\n",
    "req_data = req_data.reset_index(drop=True)"
   ]
  },
  {
   "cell_type": "code",
   "execution_count": 7,
   "metadata": {},
   "outputs": [
    {
     "data": {
      "text/plain": [
       "Job_Title          object\n",
       "Salaries           object\n",
       "Job_Description    object\n",
       "dtype: object"
      ]
     },
     "execution_count": 7,
     "metadata": {},
     "output_type": "execute_result"
    }
   ],
   "source": [
    "req_data.dtypes"
   ]
  },
  {
   "cell_type": "code",
   "execution_count": 8,
   "metadata": {},
   "outputs": [],
   "source": [
    "req_data['Salaries'] = req_data['Salaries'].str.replace(\"$\",\"\")"
   ]
  },
  {
   "cell_type": "code",
   "execution_count": 9,
   "metadata": {},
   "outputs": [],
   "source": [
    "req_data['Salaries'] = req_data['Salaries'].str.replace(\",\",\"\")"
   ]
  },
  {
   "cell_type": "code",
   "execution_count": 10,
   "metadata": {},
   "outputs": [
    {
     "data": {
      "text/html": [
       "<div>\n",
       "<style scoped>\n",
       "    .dataframe tbody tr th:only-of-type {\n",
       "        vertical-align: middle;\n",
       "    }\n",
       "\n",
       "    .dataframe tbody tr th {\n",
       "        vertical-align: top;\n",
       "    }\n",
       "\n",
       "    .dataframe thead th {\n",
       "        text-align: right;\n",
       "    }\n",
       "</style>\n",
       "<table border=\"1\" class=\"dataframe\">\n",
       "  <thead>\n",
       "    <tr style=\"text-align: right;\">\n",
       "      <th></th>\n",
       "      <th>Job_Title</th>\n",
       "      <th>Salaries</th>\n",
       "      <th>Job_Description</th>\n",
       "    </tr>\n",
       "  </thead>\n",
       "  <tbody>\n",
       "    <tr>\n",
       "      <th>0</th>\n",
       "      <td>Technical Business Analyst/Developer</td>\n",
       "      <td>60000 - 80000 a year</td>\n",
       "      <td>Technical Business Analyst We are seeking an e...</td>\n",
       "    </tr>\n",
       "    <tr>\n",
       "      <th>1</th>\n",
       "      <td>Senior Business Analyst</td>\n",
       "      <td>60000 - 100000 a year</td>\n",
       "      <td>Navirum is hiring a Senior Business Analyst fo...</td>\n",
       "    </tr>\n",
       "    <tr>\n",
       "      <th>2</th>\n",
       "      <td>Dynamics 365 Business Analyst / Functional Con...</td>\n",
       "      <td>80000 a year</td>\n",
       "      <td>We're looking for great people so together we ...</td>\n",
       "    </tr>\n",
       "    <tr>\n",
       "      <th>3</th>\n",
       "      <td>JUNIOR BUSINESS ANALYST</td>\n",
       "      <td>1258 - 1584 a week</td>\n",
       "      <td>About the Cluster\\n\\nThe Labour and Transporta...</td>\n",
       "    </tr>\n",
       "    <tr>\n",
       "      <th>4</th>\n",
       "      <td>Business Analyst</td>\n",
       "      <td>39.50 an hour</td>\n",
       "      <td>Evaluating business processes, anticipating re...</td>\n",
       "    </tr>\n",
       "    <tr>\n",
       "      <th>5</th>\n",
       "      <td>Business Analyst</td>\n",
       "      <td>75000 - 80000 a year</td>\n",
       "      <td>Airfoam Industries Ltd is a market leader in t...</td>\n",
       "    </tr>\n",
       "    <tr>\n",
       "      <th>6</th>\n",
       "      <td>Data Visualization Business Analyst (Temporary...</td>\n",
       "      <td>39.67 an hour</td>\n",
       "      <td>Do you love using your data skills to find out...</td>\n",
       "    </tr>\n",
       "    <tr>\n",
       "      <th>7</th>\n",
       "      <td>Business Analyst</td>\n",
       "      <td>42 an hour</td>\n",
       "      <td>TEI Inc. is looking for a full-time, permanent...</td>\n",
       "    </tr>\n",
       "    <tr>\n",
       "      <th>8</th>\n",
       "      <td>Technical Business Analyst/Developer</td>\n",
       "      <td>60000 - 80000 a year</td>\n",
       "      <td>Technical Business Analyst We are seeking an e...</td>\n",
       "    </tr>\n",
       "    <tr>\n",
       "      <th>9</th>\n",
       "      <td>Senior Business Analyst</td>\n",
       "      <td>60000 - 100000 a year</td>\n",
       "      <td>Navirum is hiring a Senior Business Analyst fo...</td>\n",
       "    </tr>\n",
       "  </tbody>\n",
       "</table>\n",
       "</div>"
      ],
      "text/plain": [
       "                                           Job_Title               Salaries  \\\n",
       "0               Technical Business Analyst/Developer   60000 - 80000 a year   \n",
       "1                            Senior Business Analyst  60000 - 100000 a year   \n",
       "2  Dynamics 365 Business Analyst / Functional Con...           80000 a year   \n",
       "3                            JUNIOR BUSINESS ANALYST     1258 - 1584 a week   \n",
       "4                                   Business Analyst          39.50 an hour   \n",
       "5                                   Business Analyst   75000 - 80000 a year   \n",
       "6  Data Visualization Business Analyst (Temporary...          39.67 an hour   \n",
       "7                                   Business Analyst             42 an hour   \n",
       "8               Technical Business Analyst/Developer   60000 - 80000 a year   \n",
       "9                            Senior Business Analyst  60000 - 100000 a year   \n",
       "\n",
       "                                     Job_Description  \n",
       "0  Technical Business Analyst We are seeking an e...  \n",
       "1  Navirum is hiring a Senior Business Analyst fo...  \n",
       "2  We're looking for great people so together we ...  \n",
       "3  About the Cluster\\n\\nThe Labour and Transporta...  \n",
       "4  Evaluating business processes, anticipating re...  \n",
       "5  Airfoam Industries Ltd is a market leader in t...  \n",
       "6  Do you love using your data skills to find out...  \n",
       "7  TEI Inc. is looking for a full-time, permanent...  \n",
       "8  Technical Business Analyst We are seeking an e...  \n",
       "9  Navirum is hiring a Senior Business Analyst fo...  "
      ]
     },
     "execution_count": 10,
     "metadata": {},
     "output_type": "execute_result"
    }
   ],
   "source": [
    "req_data.head(10)"
   ]
  },
  {
   "cell_type": "code",
   "execution_count": 11,
   "metadata": {},
   "outputs": [],
   "source": [
    "req_data['Mean_sal'] = pd.DataFrame(req_data['Salaries'].str.findall('(\\d+)').values.tolist(),\n",
    "                              index=req_data.index).astype(float).mean(1)"
   ]
  },
  {
   "cell_type": "code",
   "execution_count": 12,
   "metadata": {},
   "outputs": [
    {
     "data": {
      "text/html": [
       "<div>\n",
       "<style scoped>\n",
       "    .dataframe tbody tr th:only-of-type {\n",
       "        vertical-align: middle;\n",
       "    }\n",
       "\n",
       "    .dataframe tbody tr th {\n",
       "        vertical-align: top;\n",
       "    }\n",
       "\n",
       "    .dataframe thead th {\n",
       "        text-align: right;\n",
       "    }\n",
       "</style>\n",
       "<table border=\"1\" class=\"dataframe\">\n",
       "  <thead>\n",
       "    <tr style=\"text-align: right;\">\n",
       "      <th></th>\n",
       "      <th>Job_Title</th>\n",
       "      <th>Salaries</th>\n",
       "      <th>Job_Description</th>\n",
       "      <th>Mean_sal</th>\n",
       "    </tr>\n",
       "  </thead>\n",
       "  <tbody>\n",
       "    <tr>\n",
       "      <th>0</th>\n",
       "      <td>Technical Business Analyst/Developer</td>\n",
       "      <td>60000 - 80000 a year</td>\n",
       "      <td>Technical Business Analyst We are seeking an e...</td>\n",
       "      <td>70000.0</td>\n",
       "    </tr>\n",
       "    <tr>\n",
       "      <th>1</th>\n",
       "      <td>Senior Business Analyst</td>\n",
       "      <td>60000 - 100000 a year</td>\n",
       "      <td>Navirum is hiring a Senior Business Analyst fo...</td>\n",
       "      <td>80000.0</td>\n",
       "    </tr>\n",
       "    <tr>\n",
       "      <th>2</th>\n",
       "      <td>Dynamics 365 Business Analyst / Functional Con...</td>\n",
       "      <td>80000 a year</td>\n",
       "      <td>We're looking for great people so together we ...</td>\n",
       "      <td>80000.0</td>\n",
       "    </tr>\n",
       "    <tr>\n",
       "      <th>3</th>\n",
       "      <td>JUNIOR BUSINESS ANALYST</td>\n",
       "      <td>1258 - 1584 a week</td>\n",
       "      <td>About the Cluster\\n\\nThe Labour and Transporta...</td>\n",
       "      <td>1421.0</td>\n",
       "    </tr>\n",
       "    <tr>\n",
       "      <th>4</th>\n",
       "      <td>Business Analyst</td>\n",
       "      <td>39.50 an hour</td>\n",
       "      <td>Evaluating business processes, anticipating re...</td>\n",
       "      <td>44.5</td>\n",
       "    </tr>\n",
       "    <tr>\n",
       "      <th>5</th>\n",
       "      <td>Business Analyst</td>\n",
       "      <td>75000 - 80000 a year</td>\n",
       "      <td>Airfoam Industries Ltd is a market leader in t...</td>\n",
       "      <td>77500.0</td>\n",
       "    </tr>\n",
       "    <tr>\n",
       "      <th>6</th>\n",
       "      <td>Data Visualization Business Analyst (Temporary...</td>\n",
       "      <td>39.67 an hour</td>\n",
       "      <td>Do you love using your data skills to find out...</td>\n",
       "      <td>53.0</td>\n",
       "    </tr>\n",
       "    <tr>\n",
       "      <th>7</th>\n",
       "      <td>Business Analyst</td>\n",
       "      <td>42 an hour</td>\n",
       "      <td>TEI Inc. is looking for a full-time, permanent...</td>\n",
       "      <td>42.0</td>\n",
       "    </tr>\n",
       "    <tr>\n",
       "      <th>8</th>\n",
       "      <td>Technical Business Analyst/Developer</td>\n",
       "      <td>60000 - 80000 a year</td>\n",
       "      <td>Technical Business Analyst We are seeking an e...</td>\n",
       "      <td>70000.0</td>\n",
       "    </tr>\n",
       "    <tr>\n",
       "      <th>9</th>\n",
       "      <td>Senior Business Analyst</td>\n",
       "      <td>60000 - 100000 a year</td>\n",
       "      <td>Navirum is hiring a Senior Business Analyst fo...</td>\n",
       "      <td>80000.0</td>\n",
       "    </tr>\n",
       "  </tbody>\n",
       "</table>\n",
       "</div>"
      ],
      "text/plain": [
       "                                           Job_Title               Salaries  \\\n",
       "0               Technical Business Analyst/Developer   60000 - 80000 a year   \n",
       "1                            Senior Business Analyst  60000 - 100000 a year   \n",
       "2  Dynamics 365 Business Analyst / Functional Con...           80000 a year   \n",
       "3                            JUNIOR BUSINESS ANALYST     1258 - 1584 a week   \n",
       "4                                   Business Analyst          39.50 an hour   \n",
       "5                                   Business Analyst   75000 - 80000 a year   \n",
       "6  Data Visualization Business Analyst (Temporary...          39.67 an hour   \n",
       "7                                   Business Analyst             42 an hour   \n",
       "8               Technical Business Analyst/Developer   60000 - 80000 a year   \n",
       "9                            Senior Business Analyst  60000 - 100000 a year   \n",
       "\n",
       "                                     Job_Description  Mean_sal  \n",
       "0  Technical Business Analyst We are seeking an e...   70000.0  \n",
       "1  Navirum is hiring a Senior Business Analyst fo...   80000.0  \n",
       "2  We're looking for great people so together we ...   80000.0  \n",
       "3  About the Cluster\\n\\nThe Labour and Transporta...    1421.0  \n",
       "4  Evaluating business processes, anticipating re...      44.5  \n",
       "5  Airfoam Industries Ltd is a market leader in t...   77500.0  \n",
       "6  Do you love using your data skills to find out...      53.0  \n",
       "7  TEI Inc. is looking for a full-time, permanent...      42.0  \n",
       "8  Technical Business Analyst We are seeking an e...   70000.0  \n",
       "9  Navirum is hiring a Senior Business Analyst fo...   80000.0  "
      ]
     },
     "execution_count": 12,
     "metadata": {},
     "output_type": "execute_result"
    }
   ],
   "source": [
    "req_data.head(10)"
   ]
  },
  {
   "cell_type": "code",
   "execution_count": 13,
   "metadata": {},
   "outputs": [],
   "source": [
    "hour_sal = req_data['Salaries'].str.contains('hour')\n",
    "week_sal = req_data['Salaries'].str.contains('week')\n",
    "month_sal = req_data['Salaries'].str.contains('month')"
   ]
  },
  {
   "cell_type": "code",
   "execution_count": 14,
   "metadata": {},
   "outputs": [],
   "source": [
    "req_data['Final_Salary'] =np.select([hour_sal, week_sal,month_sal ], \n",
    "                          [req_data['Mean_sal'] * 1920,req_data['Mean_sal'] * 52,req_data['Mean_sal'] * 12], default=req_data['Mean_sal'])\n"
   ]
  },
  {
   "cell_type": "code",
   "execution_count": 15,
   "metadata": {},
   "outputs": [
    {
     "data": {
      "text/plain": [
       "0       70000.0\n",
       "1       80000.0\n",
       "2       80000.0\n",
       "3       73892.0\n",
       "4       85440.0\n",
       "         ...   \n",
       "992     60480.0\n",
       "993    120000.0\n",
       "994     80000.0\n",
       "995     38400.0\n",
       "996     64500.0\n",
       "Name: Final_Salary, Length: 997, dtype: float64"
      ]
     },
     "execution_count": 15,
     "metadata": {},
     "output_type": "execute_result"
    }
   ],
   "source": [
    "req_data['Final_Salary']"
   ]
  },
  {
   "cell_type": "code",
   "execution_count": 16,
   "metadata": {},
   "outputs": [
    {
     "data": {
      "text/plain": [
       "<matplotlib.axes._subplots.AxesSubplot at 0x2b802341288>"
      ]
     },
     "execution_count": 16,
     "metadata": {},
     "output_type": "execute_result"
    },
    {
     "data": {
      "image/png": "[encoded data removed]",
      "text/plain": [
       "<Figure size 432x288 with 1 Axes>"
      ]
     },
     "metadata": {
      "needs_background": "light"
     },
     "output_type": "display_data"
    }
   ],
   "source": [
    "req_data['Final_Salary'].plot(kind='hist')"
   ]
  },
  {
   "cell_type": "code",
   "execution_count": 17,
   "metadata": {},
   "outputs": [],
   "source": [
    "#Create Bins\n",
    "BINS = [0,50000,70000,90000,120000,150000,400000]\n",
    "\n",
    "# 0 - below 50k\n",
    "# 1 - 50k - 70k\n",
    "# 2 - 70k - 90k\n",
    "# 3 - 90k - 120k\n",
    "# 4 - 120k - 150k\n",
    "# 5 - 150k - 400k"
   ]
  },
  {
   "cell_type": "code",
   "execution_count": 18,
   "metadata": {},
   "outputs": [],
   "source": [
    "req_data['Salary_BINS']= pd.cut(x=req_data['Final_Salary'], bins=BINS, labels=False)"
   ]
  },
  {
   "cell_type": "markdown",
   "metadata": {},
   "source": [
    "# Model Building"
   ]
  },
  {
   "cell_type": "markdown",
   "metadata": {},
   "source": [
    "Word2vec is a two-layer neural net that processes text by vectorizing words. Its input is a text corpus and its output is a set of vectors that represent words in that corpus. It turns text into a numerical form that deep neural networks can understand.\n",
    "\n",
    "The purpose and usefulness of Word2vec is to group the vectors of similar words together in vectorspace. That is, it detects similarities mathematically. Word2vec creates vectors that are distributed numerical representations of word features, features such as the context of individual words which can be fed into a deep-learning net or simply queried to detect relationships between words."
   ]
  },
  {
   "cell_type": "code",
   "execution_count": 19,
   "metadata": {},
   "outputs": [
    {
     "name": "stdout",
     "output_type": "stream",
     "text": [
      "Requirement already satisfied: gensim in c:\\users\\300297872\\anaconda3\\lib\\site-packages (3.8.3)\n",
      "Requirement already satisfied: six>=1.5.0 in c:\\users\\300297872\\anaconda3\\lib\\site-packages (from gensim) (1.14.0)\n",
      "Requirement already satisfied: Cython==0.29.14 in c:\\users\\300297872\\anaconda3\\lib\\site-packages (from gensim) (0.29.14)\n",
      "Requirement already satisfied: smart-open>=1.8.1 in c:\\users\\300297872\\anaconda3\\lib\\site-packages (from gensim) (3.0.0)\n",
      "Requirement already satisfied: numpy>=1.11.3 in c:\\users\\300297872\\anaconda3\\lib\\site-packages (from gensim) (1.18.1)\n",
      "Requirement already satisfied: scipy>=0.18.1 in c:\\users\\300297872\\anaconda3\\lib\\site-packages (from gensim) (1.4.1)\n",
      "Requirement already satisfied: requests in c:\\users\\300297872\\anaconda3\\lib\\site-packages (from smart-open>=1.8.1->gensim) (2.22.0)\n",
      "Requirement already satisfied: idna<2.9,>=2.5 in c:\\users\\300297872\\anaconda3\\lib\\site-packages (from requests->smart-open>=1.8.1->gensim) (2.8)\n",
      "Requirement already satisfied: certifi>=2017.4.17 in c:\\users\\300297872\\anaconda3\\lib\\site-packages (from requests->smart-open>=1.8.1->gensim) (2019.11.28)\n",
      "Requirement already satisfied: chardet<3.1.0,>=3.0.2 in c:\\users\\300297872\\anaconda3\\lib\\site-packages (from requests->smart-open>=1.8.1->gensim) (3.0.4)\n",
      "Requirement already satisfied: urllib3!=1.25.0,!=1.25.1,<1.26,>=1.21.1 in c:\\users\\300297872\\anaconda3\\lib\\site-packages (from requests->smart-open>=1.8.1->gensim) (1.25.8)\n",
      "Note: you may need to restart the kernel to use updated packages.\n"
     ]
    }
   ],
   "source": [
    "#pip install gensim"
   ]
  },
  {
   "cell_type": "code",
   "execution_count": 20,
   "metadata": {},
   "outputs": [],
   "source": [
    "import gensim \n",
    "from gensim.models import Word2Vec \n",
    "from sklearn import metrics\n",
    "from sklearn.metrics import accuracy_score\n",
    "from sklearn.model_selection import train_test_split"
   ]
  },
  {
   "cell_type": "code",
   "execution_count": 21,
   "metadata": {},
   "outputs": [],
   "source": [
    "X = req_data['Job_Description']\n",
    "Y = req_data['Salary_BINS']\n",
    "\n",
    "X_train,X_test, Y_train,Y_test = train_test_split(X,Y,test_size=0.3,random_state=42)\n",
    "\n",
    "# Createing CBOW model \n",
    "model3 = Word2Vec(X, min_count = 4, size = 64, window = 5, workers=4) \n",
    "\n",
    "#Get the word vector for a given word\n",
    "model3.wv.most_similar('X')\n",
    "\n",
    "#creating dictionary to use in the pipeline \n",
    "w2v = dict(zip(model3.wv.index2word, model3.wv.vectors))\n",
    "\n",
    "#Averaging word vectors for all words in the text\n",
    "class MeanEmbeddingVectorizer(object):\n",
    "    def __init__(self, word2vec):\n",
    "        self.word2vec = word2vec\n",
    "        self.dim = len(word2vec.values())\n",
    "\n",
    "    def fit(self, x, y):\n",
    "        return self\n",
    "\n",
    "    def transform(self, x):\n",
    "        return np.array([\n",
    "            np.mean([self.word2vec[w] for w in words if w in self.word2vec]\n",
    "                    or [np.zeros(self.dim)], axis=0)\n",
    "            for words in x\n",
    "        ])"
   ]
  },
  {
   "cell_type": "code",
   "execution_count": 22,
   "metadata": {},
   "outputs": [
    {
     "name": "stderr",
     "output_type": "stream",
     "text": [
      "C:\\Users\\300297872\\Anaconda3\\lib\\site-packages\\sklearn\\linear_model\\_logistic.py:940: ConvergenceWarning: lbfgs failed to converge (status=1):\n",
      "STOP: TOTAL NO. of ITERATIONS REACHED LIMIT.\n",
      "\n",
      "Increase the number of iterations (max_iter) or scale the data as shown in:\n",
      "    https://scikit-learn.org/stable/modules/preprocessing.html\n",
      "Please also refer to the documentation for alternative solver options:\n",
      "    https://scikit-learn.org/stable/modules/linear_model.html#logistic-regression\n",
      "  extra_warning_msg=_LOGISTIC_SOLVER_CONVERGENCE_MSG)\n"
     ]
    },
    {
     "name": "stdout",
     "output_type": "stream",
     "text": [
      "LogisticRegression(C=1.0, class_weight=None, dual=False, fit_intercept=True,\n",
      "                   intercept_scaling=1, l1_ratio=None, max_iter=100,\n",
      "                   multi_class='auto', n_jobs=None, penalty='l2',\n",
      "                   random_state=None, solver='lbfgs', tol=0.0001, verbose=0,\n",
      "                   warm_start=False)\n",
      "model score: 0.257\n",
      "\n",
      " -----------------------------------------------------------------------------------\n",
      "KNeighborsClassifier(algorithm='auto', leaf_size=30, metric='minkowski',\n",
      "                     metric_params=None, n_jobs=None, n_neighbors=3, p=2,\n",
      "                     weights='uniform')\n",
      "model score: 0.483\n",
      "\n",
      " -----------------------------------------------------------------------------------\n",
      "SVC(C=0.025, break_ties=False, cache_size=200, class_weight=None, coef0=0.0,\n",
      "    decision_function_shape='ovr', degree=3, gamma='scale', kernel='linear',\n",
      "    max_iter=-1, probability=False, random_state=None, shrinking=True,\n",
      "    tol=0.001, verbose=False)\n",
      "model score: 0.180\n",
      "\n",
      " -----------------------------------------------------------------------------------\n",
      "SVC(C=1, break_ties=False, cache_size=200, class_weight=None, coef0=0.0,\n",
      "    decision_function_shape='ovr', degree=3, gamma=2, kernel='rbf', max_iter=-1,\n",
      "    probability=False, random_state=None, shrinking=True, tol=0.001,\n",
      "    verbose=False)\n",
      "model score: 0.287\n",
      "\n",
      " -----------------------------------------------------------------------------------\n",
      "DecisionTreeClassifier(ccp_alpha=0.0, class_weight=None, criterion='gini',\n",
      "                       max_depth=5, max_features=None, max_leaf_nodes=None,\n",
      "                       min_impurity_decrease=0.0, min_impurity_split=None,\n",
      "                       min_samples_leaf=1, min_samples_split=2,\n",
      "                       min_weight_fraction_leaf=0.0, presort='deprecated',\n",
      "                       random_state=None, splitter='best')\n",
      "model score: 0.360\n",
      "\n",
      " -----------------------------------------------------------------------------------\n",
      "GaussianNB(priors=None, var_smoothing=1e-09)\n",
      "model score: 0.297\n",
      "\n",
      " -----------------------------------------------------------------------------------\n"
     ]
    },
    {
     "name": "stderr",
     "output_type": "stream",
     "text": [
      "[Parallel(n_jobs=3)]: Using backend ThreadingBackend with 3 concurrent workers.\n",
      "[Parallel(n_jobs=3)]: Done  44 tasks      | elapsed:    0.2s\n",
      "[Parallel(n_jobs=3)]: Done  50 out of  50 | elapsed:    0.3s finished\n"
     ]
    },
    {
     "name": "stdout",
     "output_type": "stream",
     "text": [
      "RandomForestClassifier(bootstrap=True, ccp_alpha=0.0, class_weight=None,\n",
      "                       criterion='entropy', max_depth=None, max_features='auto',\n",
      "                       max_leaf_nodes=None, max_samples=None,\n",
      "                       min_impurity_decrease=0.0, min_impurity_split=None,\n",
      "                       min_samples_leaf=1, min_samples_split=2,\n",
      "                       min_weight_fraction_leaf=0.0, n_estimators=50, n_jobs=3,\n",
      "                       oob_score=False, random_state=None, verbose=True,\n",
      "                       warm_start=False)\n"
     ]
    },
    {
     "name": "stderr",
     "output_type": "stream",
     "text": [
      "[Parallel(n_jobs=3)]: Using backend ThreadingBackend with 3 concurrent workers.\n",
      "[Parallel(n_jobs=3)]: Done  44 tasks      | elapsed:    0.0s\n",
      "[Parallel(n_jobs=3)]: Done  50 out of  50 | elapsed:    0.0s finished\n"
     ]
    },
    {
     "name": "stdout",
     "output_type": "stream",
     "text": [
      "model score: 0.567\n",
      "\n",
      " -----------------------------------------------------------------------------------\n"
     ]
    },
    {
     "name": "stderr",
     "output_type": "stream",
     "text": [
      "[Parallel(n_jobs=3)]: Using backend ThreadingBackend with 3 concurrent workers.\n",
      "[Parallel(n_jobs=3)]: Done  44 tasks      | elapsed:    0.0s\n",
      "[Parallel(n_jobs=3)]: Done  50 out of  50 | elapsed:    0.0s finished\n"
     ]
    }
   ],
   "source": [
    "from sklearn.pipeline import Pipeline\n",
    "from sklearn.linear_model import LogisticRegression\n",
    "from sklearn.neighbors import KNeighborsClassifier\n",
    "from sklearn.svm import SVC\n",
    "from sklearn.tree import DecisionTreeClassifier\n",
    "from sklearn.naive_bayes import GaussianNB\n",
    "from sklearn.metrics import accuracy_score, log_loss\n",
    "from sklearn.ensemble import RandomForestRegressor, RandomForestClassifier\n",
    "\n",
    "names = [\"Logististic Regression\", \"Nearest Neighbors\", \"Linear SVM\", \"RBF SVM\",          \n",
    "         \"Decision Tree\", \"Naive Bayes\"]\n",
    "\n",
    "scores = [] \n",
    "\n",
    "classifiers = [\n",
    "    LogisticRegression(),\n",
    "    KNeighborsClassifier(3),\n",
    "    SVC(kernel=\"linear\", C=0.025),\n",
    "    SVC(gamma=2, C=1),   \n",
    "    DecisionTreeClassifier(max_depth=5),    \n",
    "    GaussianNB(),\n",
    "    RandomForestClassifier(n_estimators=50, criterion='entropy', verbose=True, n_jobs=3)]\n",
    "\n",
    "\n",
    "for classifier in classifiers:\n",
    "      rf =  Pipeline([('Word2Vec Vectorizer', MeanEmbeddingVectorizer(w2v)),('Classifier', classifier)])\n",
    "      rf.fit(X_train, Y_train)   \n",
    "      print(classifier)\n",
    "      scores.append(rf.score(X_test, Y_test))\n",
    "      print(\"model score: %.3f\" % rf.score(X_test, Y_test))\n",
    "      print(\"\\n -----------------------------------------------------------------------------------\")\n",
    "    "
   ]
  }
 ],
 "metadata": {
  "kernelspec": {
   "display_name": "Python 3",
   "language": "python",
   "name": "python3"
  },
  "language_info": {
   "codemirror_mode": {
    "name": "ipython",
    "version": 3
   },
   "file_extension": ".py",
   "mimetype": "text/x-python",
   "name": "python",
   "nbconvert_exporter": "python",
   "pygments_lexer": "ipython3",
   "version": "3.7.6"
  }
 },
 "nbformat": 4,
 "nbformat_minor": 4
}
