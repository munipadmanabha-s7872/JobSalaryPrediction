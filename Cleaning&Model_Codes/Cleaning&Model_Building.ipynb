{
 "cells": [
  {
   "cell_type": "code",
   "execution_count": 120,
   "metadata": {},
   "outputs": [],
   "source": [
    "#importing required libraries\n",
    "import pandas as pd\n",
    "import numpy as np"
   ]
  },
  {
   "cell_type": "code",
   "execution_count": 121,
   "metadata": {},
   "outputs": [],
   "source": [
    "scrapped_data = pd.read_csv('Data Files\\Final_Scrapped_Data.csv')"
   ]
  },
  {
   "cell_type": "code",
   "execution_count": 122,
   "metadata": {},
   "outputs": [
    {
     "data": {
      "text/plain": [
       "(2357, 8)"
      ]
     },
     "execution_count": 122,
     "metadata": {},
     "output_type": "execute_result"
    }
   ],
   "source": [
    "scrapped_data.shape"
   ]
  },
  {
   "cell_type": "code",
   "execution_count": 123,
   "metadata": {},
   "outputs": [
    {
     "data": {
      "text/plain": [
       "Index(['Unnamed: 0', 'Unnamed: 0.1', 'Job_Title', 'Company', 'Job_Location',\n",
       "       'Salaries', 'Job_Link', 'Job_Description'],\n",
       "      dtype='object')"
      ]
     },
     "execution_count": 123,
     "metadata": {},
     "output_type": "execute_result"
    }
   ],
   "source": [
    "scrapped_data.columns"
   ]
  },
  {
   "cell_type": "code",
   "execution_count": 124,
   "metadata": {},
   "outputs": [],
   "source": [
    "req_data = scrapped_data[['Job_Title','Salaries','Job_Description']]"
   ]
  },
  {
   "cell_type": "code",
   "execution_count": 125,
   "metadata": {},
   "outputs": [],
   "source": [
    "req_data = req_data.dropna()\n",
    "req_data = req_data.reset_index(drop=True)"
   ]
  },
  {
   "cell_type": "code",
   "execution_count": 126,
   "metadata": {},
   "outputs": [
    {
     "data": {
      "text/plain": [
       "Job_Title          object\n",
       "Salaries           object\n",
       "Job_Description    object\n",
       "dtype: object"
      ]
     },
     "execution_count": 126,
     "metadata": {},
     "output_type": "execute_result"
    }
   ],
   "source": [
    "req_data.dtypes"
   ]
  },
  {
   "cell_type": "code",
   "execution_count": 127,
   "metadata": {},
   "outputs": [],
   "source": [
    "req_data['Salaries'] = req_data['Salaries'].str.replace(\"$\",\"\")"
   ]
  },
  {
   "cell_type": "code",
   "execution_count": 128,
   "metadata": {},
   "outputs": [],
   "source": [
    "req_data['Salaries'] = req_data['Salaries'].str.replace(\",\",\"\")"
   ]
  },
  {
   "cell_type": "code",
   "execution_count": 129,
   "metadata": {},
   "outputs": [
    {
     "data": {
      "text/html": [
       "<div>\n",
       "<style scoped>\n",
       "    .dataframe tbody tr th:only-of-type {\n",
       "        vertical-align: middle;\n",
       "    }\n",
       "\n",
       "    .dataframe tbody tr th {\n",
       "        vertical-align: top;\n",
       "    }\n",
       "\n",
       "    .dataframe thead th {\n",
       "        text-align: right;\n",
       "    }\n",
       "</style>\n",
       "<table border=\"1\" class=\"dataframe\">\n",
       "  <thead>\n",
       "    <tr style=\"text-align: right;\">\n",
       "      <th></th>\n",
       "      <th>Job_Title</th>\n",
       "      <th>Salaries</th>\n",
       "      <th>Job_Description</th>\n",
       "    </tr>\n",
       "  </thead>\n",
       "  <tbody>\n",
       "    <tr>\n",
       "      <th>0</th>\n",
       "      <td>Technical Business Analyst/Developer</td>\n",
       "      <td>60000 - 80000 a year</td>\n",
       "      <td>Technical Business Analyst We are seeking an e...</td>\n",
       "    </tr>\n",
       "    <tr>\n",
       "      <th>1</th>\n",
       "      <td>Senior Business Analyst</td>\n",
       "      <td>60000 - 100000 a year</td>\n",
       "      <td>Navirum is hiring a Senior Business Analyst fo...</td>\n",
       "    </tr>\n",
       "    <tr>\n",
       "      <th>2</th>\n",
       "      <td>Dynamics 365 Business Analyst / Functional Con...</td>\n",
       "      <td>80000 a year</td>\n",
       "      <td>We're looking for great people so together we ...</td>\n",
       "    </tr>\n",
       "    <tr>\n",
       "      <th>3</th>\n",
       "      <td>JUNIOR BUSINESS ANALYST</td>\n",
       "      <td>1258 - 1584 a week</td>\n",
       "      <td>About the Cluster\\n\\nThe Labour and Transporta...</td>\n",
       "    </tr>\n",
       "    <tr>\n",
       "      <th>4</th>\n",
       "      <td>Business Analyst</td>\n",
       "      <td>39.50 an hour</td>\n",
       "      <td>Evaluating business processes, anticipating re...</td>\n",
       "    </tr>\n",
       "    <tr>\n",
       "      <th>5</th>\n",
       "      <td>Business Analyst</td>\n",
       "      <td>75000 - 80000 a year</td>\n",
       "      <td>Airfoam Industries Ltd is a market leader in t...</td>\n",
       "    </tr>\n",
       "    <tr>\n",
       "      <th>6</th>\n",
       "      <td>Data Visualization Business Analyst (Temporary...</td>\n",
       "      <td>39.67 an hour</td>\n",
       "      <td>Do you love using your data skills to find out...</td>\n",
       "    </tr>\n",
       "    <tr>\n",
       "      <th>7</th>\n",
       "      <td>Business Analyst</td>\n",
       "      <td>42 an hour</td>\n",
       "      <td>TEI Inc. is looking for a full-time, permanent...</td>\n",
       "    </tr>\n",
       "    <tr>\n",
       "      <th>8</th>\n",
       "      <td>Technical Business Analyst/Developer</td>\n",
       "      <td>60000 - 80000 a year</td>\n",
       "      <td>Technical Business Analyst We are seeking an e...</td>\n",
       "    </tr>\n",
       "    <tr>\n",
       "      <th>9</th>\n",
       "      <td>Senior Business Analyst</td>\n",
       "      <td>60000 - 100000 a year</td>\n",
       "      <td>Navirum is hiring a Senior Business Analyst fo...</td>\n",
       "    </tr>\n",
       "  </tbody>\n",
       "</table>\n",
       "</div>"
      ],
      "text/plain": [
       "                                           Job_Title               Salaries  \\\n",
       "0               Technical Business Analyst/Developer   60000 - 80000 a year   \n",
       "1                            Senior Business Analyst  60000 - 100000 a year   \n",
       "2  Dynamics 365 Business Analyst / Functional Con...           80000 a year   \n",
       "3                            JUNIOR BUSINESS ANALYST     1258 - 1584 a week   \n",
       "4                                   Business Analyst          39.50 an hour   \n",
       "5                                   Business Analyst   75000 - 80000 a year   \n",
       "6  Data Visualization Business Analyst (Temporary...          39.67 an hour   \n",
       "7                                   Business Analyst             42 an hour   \n",
       "8               Technical Business Analyst/Developer   60000 - 80000 a year   \n",
       "9                            Senior Business Analyst  60000 - 100000 a year   \n",
       "\n",
       "                                     Job_Description  \n",
       "0  Technical Business Analyst We are seeking an e...  \n",
       "1  Navirum is hiring a Senior Business Analyst fo...  \n",
       "2  We're looking for great people so together we ...  \n",
       "3  About the Cluster\\n\\nThe Labour and Transporta...  \n",
       "4  Evaluating business processes, anticipating re...  \n",
       "5  Airfoam Industries Ltd is a market leader in t...  \n",
       "6  Do you love using your data skills to find out...  \n",
       "7  TEI Inc. is looking for a full-time, permanent...  \n",
       "8  Technical Business Analyst We are seeking an e...  \n",
       "9  Navirum is hiring a Senior Business Analyst fo...  "
      ]
     },
     "execution_count": 129,
     "metadata": {},
     "output_type": "execute_result"
    }
   ],
   "source": [
    "req_data.head(10)"
   ]
  },
  {
   "cell_type": "code",
   "execution_count": 130,
   "metadata": {},
   "outputs": [],
   "source": [
    "req_data['Mean_sal'] = pd.DataFrame(req_data['Salaries'].str.findall('(\\d+)').values.tolist(),\n",
    "                              index=req_data.index).astype(float).mean(1)"
   ]
  },
  {
   "cell_type": "code",
   "execution_count": 131,
   "metadata": {},
   "outputs": [
    {
     "data": {
      "text/html": [
       "<div>\n",
       "<style scoped>\n",
       "    .dataframe tbody tr th:only-of-type {\n",
       "        vertical-align: middle;\n",
       "    }\n",
       "\n",
       "    .dataframe tbody tr th {\n",
       "        vertical-align: top;\n",
       "    }\n",
       "\n",
       "    .dataframe thead th {\n",
       "        text-align: right;\n",
       "    }\n",
       "</style>\n",
       "<table border=\"1\" class=\"dataframe\">\n",
       "  <thead>\n",
       "    <tr style=\"text-align: right;\">\n",
       "      <th></th>\n",
       "      <th>Job_Title</th>\n",
       "      <th>Salaries</th>\n",
       "      <th>Job_Description</th>\n",
       "      <th>Mean_sal</th>\n",
       "    </tr>\n",
       "  </thead>\n",
       "  <tbody>\n",
       "    <tr>\n",
       "      <th>0</th>\n",
       "      <td>Technical Business Analyst/Developer</td>\n",
       "      <td>60000 - 80000 a year</td>\n",
       "      <td>Technical Business Analyst We are seeking an e...</td>\n",
       "      <td>70000.0</td>\n",
       "    </tr>\n",
       "    <tr>\n",
       "      <th>1</th>\n",
       "      <td>Senior Business Analyst</td>\n",
       "      <td>60000 - 100000 a year</td>\n",
       "      <td>Navirum is hiring a Senior Business Analyst fo...</td>\n",
       "      <td>80000.0</td>\n",
       "    </tr>\n",
       "    <tr>\n",
       "      <th>2</th>\n",
       "      <td>Dynamics 365 Business Analyst / Functional Con...</td>\n",
       "      <td>80000 a year</td>\n",
       "      <td>We're looking for great people so together we ...</td>\n",
       "      <td>80000.0</td>\n",
       "    </tr>\n",
       "    <tr>\n",
       "      <th>3</th>\n",
       "      <td>JUNIOR BUSINESS ANALYST</td>\n",
       "      <td>1258 - 1584 a week</td>\n",
       "      <td>About the Cluster\\n\\nThe Labour and Transporta...</td>\n",
       "      <td>1421.0</td>\n",
       "    </tr>\n",
       "    <tr>\n",
       "      <th>4</th>\n",
       "      <td>Business Analyst</td>\n",
       "      <td>39.50 an hour</td>\n",
       "      <td>Evaluating business processes, anticipating re...</td>\n",
       "      <td>44.5</td>\n",
       "    </tr>\n",
       "    <tr>\n",
       "      <th>5</th>\n",
       "      <td>Business Analyst</td>\n",
       "      <td>75000 - 80000 a year</td>\n",
       "      <td>Airfoam Industries Ltd is a market leader in t...</td>\n",
       "      <td>77500.0</td>\n",
       "    </tr>\n",
       "    <tr>\n",
       "      <th>6</th>\n",
       "      <td>Data Visualization Business Analyst (Temporary...</td>\n",
       "      <td>39.67 an hour</td>\n",
       "      <td>Do you love using your data skills to find out...</td>\n",
       "      <td>53.0</td>\n",
       "    </tr>\n",
       "    <tr>\n",
       "      <th>7</th>\n",
       "      <td>Business Analyst</td>\n",
       "      <td>42 an hour</td>\n",
       "      <td>TEI Inc. is looking for a full-time, permanent...</td>\n",
       "      <td>42.0</td>\n",
       "    </tr>\n",
       "    <tr>\n",
       "      <th>8</th>\n",
       "      <td>Technical Business Analyst/Developer</td>\n",
       "      <td>60000 - 80000 a year</td>\n",
       "      <td>Technical Business Analyst We are seeking an e...</td>\n",
       "      <td>70000.0</td>\n",
       "    </tr>\n",
       "    <tr>\n",
       "      <th>9</th>\n",
       "      <td>Senior Business Analyst</td>\n",
       "      <td>60000 - 100000 a year</td>\n",
       "      <td>Navirum is hiring a Senior Business Analyst fo...</td>\n",
       "      <td>80000.0</td>\n",
       "    </tr>\n",
       "  </tbody>\n",
       "</table>\n",
       "</div>"
      ],
      "text/plain": [
       "                                           Job_Title               Salaries  \\\n",
       "0               Technical Business Analyst/Developer   60000 - 80000 a year   \n",
       "1                            Senior Business Analyst  60000 - 100000 a year   \n",
       "2  Dynamics 365 Business Analyst / Functional Con...           80000 a year   \n",
       "3                            JUNIOR BUSINESS ANALYST     1258 - 1584 a week   \n",
       "4                                   Business Analyst          39.50 an hour   \n",
       "5                                   Business Analyst   75000 - 80000 a year   \n",
       "6  Data Visualization Business Analyst (Temporary...          39.67 an hour   \n",
       "7                                   Business Analyst             42 an hour   \n",
       "8               Technical Business Analyst/Developer   60000 - 80000 a year   \n",
       "9                            Senior Business Analyst  60000 - 100000 a year   \n",
       "\n",
       "                                     Job_Description  Mean_sal  \n",
       "0  Technical Business Analyst We are seeking an e...   70000.0  \n",
       "1  Navirum is hiring a Senior Business Analyst fo...   80000.0  \n",
       "2  We're looking for great people so together we ...   80000.0  \n",
       "3  About the Cluster\\n\\nThe Labour and Transporta...    1421.0  \n",
       "4  Evaluating business processes, anticipating re...      44.5  \n",
       "5  Airfoam Industries Ltd is a market leader in t...   77500.0  \n",
       "6  Do you love using your data skills to find out...      53.0  \n",
       "7  TEI Inc. is looking for a full-time, permanent...      42.0  \n",
       "8  Technical Business Analyst We are seeking an e...   70000.0  \n",
       "9  Navirum is hiring a Senior Business Analyst fo...   80000.0  "
      ]
     },
     "execution_count": 131,
     "metadata": {},
     "output_type": "execute_result"
    }
   ],
   "source": [
    "req_data.head(10)"
   ]
  },
  {
   "cell_type": "code",
   "execution_count": 132,
   "metadata": {},
   "outputs": [],
   "source": [
    "hour_sal = req_data['Salaries'].str.contains('hour')\n",
    "week_sal = req_data['Salaries'].str.contains('week')\n",
    "month_sal = req_data['Salaries'].str.contains('month')"
   ]
  },
  {
   "cell_type": "code",
   "execution_count": 133,
   "metadata": {},
   "outputs": [],
   "source": [
    "req_data['Final_Salary'] =np.select([hour_sal, week_sal,month_sal ], \n",
    "                          [req_data['Mean_sal'] * 1920,req_data['Mean_sal'] * 52,req_data['Mean_sal'] * 12], default=req_data['Mean_sal'])\n"
   ]
  },
  {
   "cell_type": "code",
   "execution_count": 134,
   "metadata": {},
   "outputs": [
    {
     "data": {
      "text/plain": [
       "0       70000.0\n",
       "1       80000.0\n",
       "2       80000.0\n",
       "3       73892.0\n",
       "4       85440.0\n",
       "         ...   \n",
       "992     60480.0\n",
       "993    120000.0\n",
       "994     80000.0\n",
       "995     38400.0\n",
       "996     64500.0\n",
       "Name: Final_Salary, Length: 997, dtype: float64"
      ]
     },
     "execution_count": 134,
     "metadata": {},
     "output_type": "execute_result"
    }
   ],
   "source": [
    "req_data['Final_Salary']"
   ]
  },
  {
   "cell_type": "code",
   "execution_count": 135,
   "metadata": {},
   "outputs": [
    {
     "data": {
      "text/plain": [
       "<matplotlib.axes._subplots.AxesSubplot at 0x1b42e9900a0>"
      ]
     },
     "execution_count": 135,
     "metadata": {},
     "output_type": "execute_result"
    },
    {
     "data": {
      "image/png": "[encoded data removed]",
      "text/plain": [
       "<Figure size 432x288 with 1 Axes>"
      ]
     },
     "metadata": {
      "needs_background": "light"
     },
     "output_type": "display_data"
    }
   ],
   "source": [
    "req_data['Final_Salary'].plot(kind='hist')"
   ]
  },
  {
   "cell_type": "code",
   "execution_count": 136,
   "metadata": {},
   "outputs": [],
   "source": [
    "#Create Bins\n",
    "BINS = [0,50000,70000,90000,120000,150000,400000]\n",
    "\n",
    "# 0 - below 50k\n",
    "# 1 - 50k - 70k\n",
    "# 2 - 70k - 90k\n",
    "# 3 - 90k - 120k\n",
    "# 4 - 120k - 150k\n",
    "# 5 - 150k - 400k"
   ]
  },
  {
   "cell_type": "code",
   "execution_count": 137,
   "metadata": {},
   "outputs": [],
   "source": [
    "req_data['Salary_BINS']= pd.cut(x=req_data['Final_Salary'], bins=BINS, labels=False)"
   ]
  },
  {
   "cell_type": "markdown",
   "metadata": {},
   "source": [
    "# Model Building"
   ]
  },
  {
   "cell_type": "code",
   "execution_count": null,
   "metadata": {},
   "outputs": [],
   "source": []
  }
 ],
 "metadata": {
  "kernelspec": {
   "display_name": "Python 3",
   "language": "python",
   "name": "python3"
  },
  "language_info": {
   "codemirror_mode": {
    "name": "ipython",
    "version": 3
   },
   "file_extension": ".py",
   "mimetype": "text/x-python",
   "name": "python",
   "nbconvert_exporter": "python",
   "pygments_lexer": "ipython3",
   "version": "3.7.6"
  }
 },
 "nbformat": 4,
 "nbformat_minor": 4
}
