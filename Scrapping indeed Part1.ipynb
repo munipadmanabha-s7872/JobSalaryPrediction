{
 "cells": [
  {
   "cell_type": "code",
   "execution_count": 57,
   "metadata": {},
   "outputs": [],
   "source": [
    "from selenium import webdriver\n",
    "from selenium.webdriver.common.action_chains import ActionChains\n",
    "import requests\n",
    "from bs4 import BeautifulSoup\n",
    "from selenium.common.exceptions import ElementClickInterceptedException"
   ]
  },
  {
   "cell_type": "code",
   "execution_count": 58,
   "metadata": {},
   "outputs": [],
   "source": [
    "driver = webdriver.Chrome()\n",
    "mainUrl = \"https://indeed.com\"\n",
    "driver.get(mainUrl)"
   ]
  },
  {
   "cell_type": "code",
   "execution_count": 59,
   "metadata": {},
   "outputs": [],
   "source": [
    "#we are looking for jobs in canada.\n",
    "#driver.find_element_by_xpath('//*[@id=\"text-input-where\"]').clear()\n",
    "#location.send_keys(['Canada'])\n",
    "\n"
   ]
  },
  {
   "cell_type": "code",
   "execution_count": 60,
   "metadata": {},
   "outputs": [],
   "source": [
    "search_btn = driver.find_element_by_xpath('//*[@id=\"whatWhereFormId\"]/div[3]/button')\n",
    "search_btn.click()"
   ]
  },
  {
   "cell_type": "code",
   "execution_count": 61,
   "metadata": {},
   "outputs": [],
   "source": [
    "adv_search_btn = driver.find_element_by_xpath('//*[@id=\"jobsearch\"]/table/tbody/tr[3]/td[4]/div/a')"
   ]
  },
  {
   "cell_type": "code",
   "execution_count": 62,
   "metadata": {},
   "outputs": [],
   "source": [
    "adv_search_btn.click()"
   ]
  },
  {
   "cell_type": "code",
   "execution_count": 63,
   "metadata": {},
   "outputs": [],
   "source": [
    "#with all of these words - title of search box.\n",
    "job_search = driver.find_element_by_xpath('//*[@id=\"as_and\"]')\n",
    "job_search.send_keys(['data science'])\n",
    "\n",
    "\n",
    "#setting 20results per page.\n",
    "page_limit = driver.find_element_by_xpath('//*[@id=\"limit\"]//option[@value=\"30\"]')\n",
    "page_limit.click()\n",
    "\n",
    "#sort by date.\n",
    "sort_bydate = driver.find_element_by_xpath('//*[@id=\"sort\"]//option[@value=\"date\"]')\n",
    "sort_bydate.click()\n",
    "\n",
    "#click on find jobs button with above criteria\n",
    "find_jobs = driver.find_element_by_xpath('//*[@id=\"fj\"]')\n",
    "find_jobs.click()\n",
    "\n"
   ]
  },
  {
   "cell_type": "code",
   "execution_count": 64,
   "metadata": {},
   "outputs": [],
   "source": [
    "#close the pop-up\n",
    "close_pop = driver.find_element_by_xpath('//*[@id=\"popover-x\"]/button')\n",
    "close_pop.click()"
   ]
  },
  {
   "cell_type": "code",
   "execution_count": null,
   "metadata": {},
   "outputs": [],
   "source": []
  }
 ],
 "metadata": {
  "kernelspec": {
   "display_name": "Python 3",
   "language": "python",
   "name": "python3"
  },
  "language_info": {
   "codemirror_mode": {
    "name": "ipython",
    "version": 3
   },
   "file_extension": ".py",
   "mimetype": "text/x-python",
   "name": "python",
   "nbconvert_exporter": "python",
   "pygments_lexer": "ipython3",
   "version": "3.8.3"
  }
 },
 "nbformat": 4,
 "nbformat_minor": 4
}
