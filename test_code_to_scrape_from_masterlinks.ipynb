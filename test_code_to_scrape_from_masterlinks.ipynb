{
 "cells": [
  {
   "cell_type": "code",
   "execution_count": 26,
   "metadata": {},
   "outputs": [],
   "source": [
    "from selenium import webdriver\n",
    "from selenium.webdriver.common.action_chains import ActionChains\n",
    "import requests\n",
    "from bs4 import BeautifulSoup\n",
    "from selenium.common.exceptions import ElementClickInterceptedException\n",
    "import pandas as pd\n",
    "import requests"
   ]
  },
  {
   "cell_type": "code",
   "execution_count": 27,
   "metadata": {},
   "outputs": [],
   "source": [
    "titles = []\n",
    "companies = []\n",
    "locations = []\n",
    "salaries = []\n",
    "jsummary = []\n",
    "jlink = []\n",
    "jdesc = []"
   ]
  },
  {
   "cell_type": "code",
   "execution_count": 28,
   "metadata": {},
   "outputs": [],
   "source": [
    "master = pd.read_csv('Master_links.csv')"
   ]
  },
  {
   "cell_type": "code",
   "execution_count": 29,
   "metadata": {},
   "outputs": [
    {
     "name": "stdout",
     "output_type": "stream",
     "text": [
      "Link opened: https://ca.indeed.com/jobs?q=data&l=canada\n",
      "number of cards :  15\n",
      "Link opened: https://ca.indeed.com/jobs?q=junior+data+developer&l=canada\n",
      "number of cards :  15\n",
      "Link opened: https://ca.indeed.com/jobs?q=business+data+analyst&l=canada\n",
      "number of cards :  15\n",
      "Link opened: https://ca.indeed.com/jobs?q=statistician&l=canada\n",
      "number of cards :  12\n",
      "Link opened: https://ca.indeed.com/jobs?q=big+data+engineer&l=canada\n",
      "number of cards :  15\n",
      "Link opened: https://ca.indeed.com/jobs?q=data&l=canada&start=10\n",
      "number of cards :  16\n",
      "Link opened: https://ca.indeed.com/jobs?q=data&l=canada&start=20\n",
      "number of cards :  15\n",
      "Link opened: https://ca.indeed.com/jobs?q=data&l=canada&start=30\n",
      "number of cards :  15\n",
      "Link opened: https://ca.indeed.com/jobs?q=data&l=canada&start=40\n",
      "number of cards :  15\n",
      "Link opened: https://ca.indeed.com/jobs?q=data&l=canada&start=50\n",
      "number of cards :  15\n"
     ]
    }
   ],
   "source": [
    "#part4 - for business analyst.                    \n",
    "    \n",
    "for url in master.links[0:10]:\n",
    "\n",
    "\n",
    "    #requesting access to page.\n",
    "    page=requests.get(url)\n",
    "    print(\"Link opened:\",url)\n",
    "\n",
    "    #obtaining html structure of webpage.\n",
    "    soup = BeautifulSoup(page.content,'html.parser')\n",
    "\n",
    "    #getting all cards (job cards)\n",
    "    cards = soup.find_all('div','jobsearch-SerpJobCard')\n",
    "    print('number of cards : ',len(cards))\n",
    "\n",
    "\n",
    "    #looping over cards\n",
    "    for card in cards:\n",
    "        try:\n",
    "            title = card.h2.a.get('title')\n",
    "        except:\n",
    "            title = ''\n",
    "        titles.append(title)\n",
    "\n",
    "\n",
    "        try:\n",
    "            company = card.find('span','company').text.strip()\n",
    "        except:\n",
    "            company = ''\n",
    "        companies.append(company)\n",
    "\n",
    "        try:\n",
    "            location = card.find('div','recJobLoc').get('data-rc-loc')\n",
    "        except:\n",
    "            location = ''\n",
    "        locations.append(location)\n",
    "\n",
    "        try:\n",
    "            salary = card.find('span','salaryText').text.strip()\n",
    "        except:\n",
    "            salary = ''\n",
    "        salaries.append(salary)\n",
    "\n",
    "        try:\n",
    "            job_summary = card.find('div','summary').text.strip()\n",
    "        except:\n",
    "            job_summary = ''\n",
    "        jsummary.append(job_summary)\n",
    "\n",
    "        try:\n",
    "            job_link = \"https://ca.indeed.com\" + card.h2.a.get('href')\n",
    "        except:\n",
    "            job_link = ''\n",
    "        jlink.append(job_link)\n",
    "\n",
    "        page2=requests.get(job_link)\n",
    "        soup2 = BeautifulSoup(page2.content,'html.parser')\n",
    "\n",
    "        try:\n",
    "            job_desc = soup2.find('div',{'id':'jobDescriptionText'}).text\n",
    "        except:\n",
    "            job_desc = ''\n",
    "        jdesc.append(job_desc)\n",
    "\n",
    "        "
   ]
  },
  {
   "cell_type": "markdown",
   "metadata": {},
   "source": [
    "# we will run this step after completing all master links."
   ]
  },
  {
   "cell_type": "code",
   "execution_count": null,
   "metadata": {},
   "outputs": [],
   "source": [
    "#we will run this step after completing all master links.\n",
    "\n",
    "df=pd.DataFrame()\n",
    "df['Job_Title']=titles\n",
    "df['Company']=companies\n",
    "df['Job_Location']=locations\n",
    "df['Salaries']=salaries\n",
    "df['Job_Summary']=jsummary\n",
    "df['Job_Link']=jlink\n",
    "df['Job_Description']=jdesc"
   ]
  },
  {
   "cell_type": "code",
   "execution_count": 11,
   "metadata": {},
   "outputs": [],
   "source": [
    "r = list(range(0,100))\n"
   ]
  },
  {
   "cell_type": "code",
   "execution_count": 22,
   "metadata": {},
   "outputs": [
    {
     "name": "stdout",
     "output_type": "stream",
     "text": [
      "Unnamed: 0\n",
      "0\n"
     ]
    }
   ],
   "source": [
    "for url in master[0:10]:\n",
    "    print(url)"
   ]
  },
  {
   "cell_type": "code",
   "execution_count": 25,
   "metadata": {},
   "outputs": [
    {
     "ename": "AttributeError",
     "evalue": "'DataFrame' object has no attribute 'unique'",
     "output_type": "error",
     "traceback": [
      "\u001b[1;31m---------------------------------------------------------------------------\u001b[0m",
      "\u001b[1;31mAttributeError\u001b[0m                            Traceback (most recent call last)",
      "\u001b[1;32m<ipython-input-25-ec35b9cde65b>\u001b[0m in \u001b[0;36m<module>\u001b[1;34m\u001b[0m\n\u001b[1;32m----> 1\u001b[1;33m \u001b[0mmaster\u001b[0m\u001b[1;33m.\u001b[0m\u001b[0munique\u001b[0m\u001b[1;33m\u001b[0m\u001b[1;33m\u001b[0m\u001b[0m\n\u001b[0m",
      "\u001b[1;32m~\\anaconda3\\lib\\site-packages\\pandas\\core\\generic.py\u001b[0m in \u001b[0;36m__getattr__\u001b[1;34m(self, name)\u001b[0m\n\u001b[0;32m   5272\u001b[0m             \u001b[1;32mif\u001b[0m \u001b[0mself\u001b[0m\u001b[1;33m.\u001b[0m\u001b[0m_info_axis\u001b[0m\u001b[1;33m.\u001b[0m\u001b[0m_can_hold_identifiers_and_holds_name\u001b[0m\u001b[1;33m(\u001b[0m\u001b[0mname\u001b[0m\u001b[1;33m)\u001b[0m\u001b[1;33m:\u001b[0m\u001b[1;33m\u001b[0m\u001b[1;33m\u001b[0m\u001b[0m\n\u001b[0;32m   5273\u001b[0m                 \u001b[1;32mreturn\u001b[0m \u001b[0mself\u001b[0m\u001b[1;33m[\u001b[0m\u001b[0mname\u001b[0m\u001b[1;33m]\u001b[0m\u001b[1;33m\u001b[0m\u001b[1;33m\u001b[0m\u001b[0m\n\u001b[1;32m-> 5274\u001b[1;33m             \u001b[1;32mreturn\u001b[0m \u001b[0mobject\u001b[0m\u001b[1;33m.\u001b[0m\u001b[0m__getattribute__\u001b[0m\u001b[1;33m(\u001b[0m\u001b[0mself\u001b[0m\u001b[1;33m,\u001b[0m \u001b[0mname\u001b[0m\u001b[1;33m)\u001b[0m\u001b[1;33m\u001b[0m\u001b[1;33m\u001b[0m\u001b[0m\n\u001b[0m\u001b[0;32m   5275\u001b[0m \u001b[1;33m\u001b[0m\u001b[0m\n\u001b[0;32m   5276\u001b[0m     \u001b[1;32mdef\u001b[0m \u001b[0m__setattr__\u001b[0m\u001b[1;33m(\u001b[0m\u001b[0mself\u001b[0m\u001b[1;33m,\u001b[0m \u001b[0mname\u001b[0m\u001b[1;33m:\u001b[0m \u001b[0mstr\u001b[0m\u001b[1;33m,\u001b[0m \u001b[0mvalue\u001b[0m\u001b[1;33m)\u001b[0m \u001b[1;33m->\u001b[0m \u001b[1;32mNone\u001b[0m\u001b[1;33m:\u001b[0m\u001b[1;33m\u001b[0m\u001b[1;33m\u001b[0m\u001b[0m\n",
      "\u001b[1;31mAttributeError\u001b[0m: 'DataFrame' object has no attribute 'unique'"
     ]
    }
   ],
   "source": []
  },
  {
   "cell_type": "code",
   "execution_count": null,
   "metadata": {},
   "outputs": [],
   "source": []
  }
 ],
 "metadata": {
  "kernelspec": {
   "display_name": "Python 3",
   "language": "python",
   "name": "python3"
  },
  "language_info": {
   "codemirror_mode": {
    "name": "ipython",
    "version": 3
   },
   "file_extension": ".py",
   "mimetype": "text/x-python",
   "name": "python",
   "nbconvert_exporter": "python",
   "pygments_lexer": "ipython3",
   "version": "3.8.3"
  }
 },
 "nbformat": 4,
 "nbformat_minor": 4
}
