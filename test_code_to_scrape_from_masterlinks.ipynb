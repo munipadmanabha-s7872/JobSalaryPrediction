{
 "cells": [
  {
   "cell_type": "code",
   "execution_count": 1,
   "metadata": {},
   "outputs": [],
   "source": [
    "from selenium import webdriver\n",
    "from selenium.webdriver.common.action_chains import ActionChains\n",
    "import requests\n",
    "from bs4 import BeautifulSoup\n",
    "from selenium.common.exceptions import ElementClickInterceptedException\n",
    "import pandas as pd\n",
    "import requests"
   ]
  },
  {
   "cell_type": "code",
   "execution_count": 2,
   "metadata": {},
   "outputs": [],
   "source": [
    "titles = []\n",
    "companies = []\n",
    "locations = []\n",
    "salaries = []\n",
    "jsummary = []\n",
    "jlink = []\n",
    "jdesc = []"
   ]
  },
  {
   "cell_type": "code",
   "execution_count": 3,
   "metadata": {},
   "outputs": [],
   "source": [
    "master = pd.read_csv('Master_links.csv')"
   ]
  },
  {
   "cell_type": "code",
   "execution_count": null,
   "metadata": {},
   "outputs": [],
   "source": [
    "#part4 - for business analyst.                    \n",
    "    \n",
    "for url in master[:10]:\n",
    "\n",
    "\n",
    "    #requesting access to page.\n",
    "    page=requests.get(url)\n",
    "    print(\"Link opened:\",url)\n",
    "\n",
    "    #obtaining html structure of webpage.\n",
    "    soup = BeautifulSoup(page.content,'html.parser')\n",
    "\n",
    "    #getting all cards (job cards)\n",
    "    cards = soup.find_all('div','jobsearch-SerpJobCard')\n",
    "    print('number of cards : ',len(cards))\n",
    "\n",
    "\n",
    "    #looping over cards\n",
    "    for card in cards:\n",
    "        try:\n",
    "            title = card.h2.a.get('title')\n",
    "        except:\n",
    "            title = ''\n",
    "        titles.append(title)\n",
    "\n",
    "\n",
    "        try:\n",
    "            company = card.find('span','company').text.strip()\n",
    "        except:\n",
    "            company = ''\n",
    "        companies.append(company)\n",
    "\n",
    "        try:\n",
    "            location = card.find('div','recJobLoc').get('data-rc-loc')\n",
    "        except:\n",
    "            location = ''\n",
    "        locations.append(location)\n",
    "\n",
    "        try:\n",
    "            salary = card.find('span','salaryText').text.strip()\n",
    "        except:\n",
    "            salary = ''\n",
    "        salaries.append(salary)\n",
    "\n",
    "        try:\n",
    "            job_summary = card.find('div','summary').text.strip()\n",
    "        except:\n",
    "            job_summary = ''\n",
    "        jsummary.append(job_summary)\n",
    "\n",
    "        try:\n",
    "            job_link = \"https://ca.indeed.com\" + card.h2.a.get('href')\n",
    "        except:\n",
    "            job_link = ''\n",
    "        jlink.append(job_link)\n",
    "\n",
    "        page2=requests.get(job_link)\n",
    "        soup2 = BeautifulSoup(page2.content,'html.parser')\n",
    "\n",
    "        try:\n",
    "            job_desc = soup2.find('div',{'id':'jobDescriptionText'}).text\n",
    "        except:\n",
    "            job_desc = ''\n",
    "        jdesc.append(job_desc)\n",
    "\n",
    "        "
   ]
  },
  {
   "cell_type": "markdown",
   "metadata": {},
   "source": [
    "# we will run this step after completing all master links."
   ]
  },
  {
   "cell_type": "code",
   "execution_count": null,
   "metadata": {},
   "outputs": [],
   "source": [
    "#we will run this step after completing all master links.\n",
    "\n",
    "df=pd.DataFrame()\n",
    "df['Job_Title']=titles\n",
    "df['Company']=companies\n",
    "df['Job_Location']=locations\n",
    "df['Salaries']=salaries\n",
    "df['Job_Summary']=jsummary\n",
    "df['Job_Link']=jlink\n",
    "df['Job_Description']=jdesc"
   ]
  }
 ],
 "metadata": {
  "kernelspec": {
   "display_name": "Python 3",
   "language": "python",
   "name": "python3"
  },
  "language_info": {
   "codemirror_mode": {
    "name": "ipython",
    "version": 3
   },
   "file_extension": ".py",
   "mimetype": "text/x-python",
   "name": "python",
   "nbconvert_exporter": "python",
   "pygments_lexer": "ipython3",
   "version": "3.8.3"
  }
 },
 "nbformat": 4,
 "nbformat_minor": 4
}
