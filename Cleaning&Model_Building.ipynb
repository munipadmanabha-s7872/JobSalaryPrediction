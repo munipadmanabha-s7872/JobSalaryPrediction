{
 "cells": [
  {
   "cell_type": "code",
   "execution_count": 1,
   "metadata": {},
   "outputs": [],
   "source": [
    "#importing required libraries\n",
    "import pandas as pd\n",
    "import numpy as np\n",
    "from sklearn.pipeline import Pipeline\n",
    "from sklearn.feature_extraction.text import TfidfVectorizer\n",
    "from sklearn.naive_bayes import MultinomialNB\n",
    "from sklearn.pipeline import Pipeline\n",
    "from sklearn.linear_model import LogisticRegression, PassiveAggressiveClassifier\n",
    "from sklearn.neighbors import KNeighborsClassifier\n",
    "from sklearn.svm import SVC\n",
    "from sklearn.tree import DecisionTreeClassifier\n",
    "from sklearn.naive_bayes import GaussianNB\n",
    "from sklearn import metrics\n",
    "from sklearn.metrics import accuracy_score, log_loss,confusion_matrix\n",
    "from sklearn.ensemble import RandomForestClassifier, BaggingClassifier, AdaBoostClassifier, VotingClassifier\n",
    "from xgboost import XGBClassifier\n",
    "\n",
    "text_clf = Pipeline([('vect', TfidfVectorizer()), \n",
    "                      ('clf', MultinomialNB()) ])\n",
    "\n",
    "from sklearn.model_selection import train_test_split\n",
    "#pip install gensim\n",
    "import gensim \n",
    "from gensim.models import Word2Vec \n",
    "import seaborn as sns\n",
    "import matplotlib.pyplot as plt\n",
    "%matplotlib inline\n"
   ]
  },
  {
   "cell_type": "code",
   "execution_count": 2,
   "metadata": {},
   "outputs": [],
   "source": [
    "#Loading the data extracted from scrapping\n",
    "scrapped_data = pd.read_csv('C:/Users/300297872/Desktop/JaneApp/JObsalary/Project/webapp_SalaryPrediction/Final_Scrapped_Data.csv')"
   ]
  },
  {
   "cell_type": "code",
   "execution_count": 3,
   "metadata": {},
   "outputs": [
    {
     "data": {
      "text/html": [
       "<div>\n",
       "<style scoped>\n",
       "    .dataframe tbody tr th:only-of-type {\n",
       "        vertical-align: middle;\n",
       "    }\n",
       "\n",
       "    .dataframe tbody tr th {\n",
       "        vertical-align: top;\n",
       "    }\n",
       "\n",
       "    .dataframe thead th {\n",
       "        text-align: right;\n",
       "    }\n",
       "</style>\n",
       "<table border=\"1\" class=\"dataframe\">\n",
       "  <thead>\n",
       "    <tr style=\"text-align: right;\">\n",
       "      <th></th>\n",
       "      <th>Unnamed: 0</th>\n",
       "      <th>Unnamed: 0.1</th>\n",
       "      <th>Job_Title</th>\n",
       "      <th>Company</th>\n",
       "      <th>Job_Location</th>\n",
       "      <th>Salaries</th>\n",
       "      <th>Job_Link</th>\n",
       "      <th>Job_Description</th>\n",
       "    </tr>\n",
       "  </thead>\n",
       "  <tbody>\n",
       "    <tr>\n",
       "      <th>0</th>\n",
       "      <td>0</td>\n",
       "      <td>0</td>\n",
       "      <td>Senior Business Analyst and Account Manager</td>\n",
       "      <td>Orderbot Software Inc.</td>\n",
       "      <td>Vancouver, BC</td>\n",
       "      <td>NaN</td>\n",
       "      <td>https://ca.indeed.com/pagead/clk?mo=r&amp;ad=-6NYl...</td>\n",
       "      <td>General descriptionCompany develops Order Mana...</td>\n",
       "    </tr>\n",
       "    <tr>\n",
       "      <th>1</th>\n",
       "      <td>1</td>\n",
       "      <td>1</td>\n",
       "      <td>Technical Business Analyst/Developer</td>\n",
       "      <td>RCN Call Center Services</td>\n",
       "      <td>Montréal, QC</td>\n",
       "      <td>$60,000 - $80,000 a year</td>\n",
       "      <td>https://ca.indeed.com/pagead/clk?mo=r&amp;ad=-6NYl...</td>\n",
       "      <td>Technical Business Analyst We are seeking an e...</td>\n",
       "    </tr>\n",
       "    <tr>\n",
       "      <th>2</th>\n",
       "      <td>2</td>\n",
       "      <td>2</td>\n",
       "      <td>Senior Business Analyst</td>\n",
       "      <td>Navirum</td>\n",
       "      <td>Montréal, QC</td>\n",
       "      <td>$60,000 - $100,000 a year</td>\n",
       "      <td>https://ca.indeed.com/pagead/clk?mo=r&amp;ad=-6NYl...</td>\n",
       "      <td>Navirum is hiring a Senior Business Analyst fo...</td>\n",
       "    </tr>\n",
       "    <tr>\n",
       "      <th>3</th>\n",
       "      <td>3</td>\n",
       "      <td>3</td>\n",
       "      <td>Business Analyst</td>\n",
       "      <td>Venor</td>\n",
       "      <td>Charlottetown, PE</td>\n",
       "      <td>NaN</td>\n",
       "      <td>https://ca.indeed.com/pagead/clk?mo=r&amp;ad=-6NYl...</td>\n",
       "      <td>Our client, a Canadian-based IT company, has a...</td>\n",
       "    </tr>\n",
       "    <tr>\n",
       "      <th>4</th>\n",
       "      <td>4</td>\n",
       "      <td>4</td>\n",
       "      <td>Business Systems Analyst</td>\n",
       "      <td>Merchant Processor Solutions</td>\n",
       "      <td>Montréal, QC</td>\n",
       "      <td>NaN</td>\n",
       "      <td>https://ca.indeed.com/pagead/clk?mo=r&amp;ad=-6NYl...</td>\n",
       "      <td>(Une version française suivra) About us: Merch...</td>\n",
       "    </tr>\n",
       "  </tbody>\n",
       "</table>\n",
       "</div>"
      ],
      "text/plain": [
       "   Unnamed: 0  Unnamed: 0.1                                    Job_Title  \\\n",
       "0           0             0  Senior Business Analyst and Account Manager   \n",
       "1           1             1         Technical Business Analyst/Developer   \n",
       "2           2             2                      Senior Business Analyst   \n",
       "3           3             3                             Business Analyst   \n",
       "4           4             4                     Business Systems Analyst   \n",
       "\n",
       "                        Company       Job_Location                   Salaries  \\\n",
       "0        Orderbot Software Inc.      Vancouver, BC                        NaN   \n",
       "1      RCN Call Center Services       Montréal, QC   $60,000 - $80,000 a year   \n",
       "2                       Navirum       Montréal, QC  $60,000 - $100,000 a year   \n",
       "3                         Venor  Charlottetown, PE                        NaN   \n",
       "4  Merchant Processor Solutions       Montréal, QC                        NaN   \n",
       "\n",
       "                                            Job_Link  \\\n",
       "0  https://ca.indeed.com/pagead/clk?mo=r&ad=-6NYl...   \n",
       "1  https://ca.indeed.com/pagead/clk?mo=r&ad=-6NYl...   \n",
       "2  https://ca.indeed.com/pagead/clk?mo=r&ad=-6NYl...   \n",
       "3  https://ca.indeed.com/pagead/clk?mo=r&ad=-6NYl...   \n",
       "4  https://ca.indeed.com/pagead/clk?mo=r&ad=-6NYl...   \n",
       "\n",
       "                                     Job_Description  \n",
       "0  General descriptionCompany develops Order Mana...  \n",
       "1  Technical Business Analyst We are seeking an e...  \n",
       "2  Navirum is hiring a Senior Business Analyst fo...  \n",
       "3  Our client, a Canadian-based IT company, has a...  \n",
       "4  (Une version française suivra) About us: Merch...  "
      ]
     },
     "execution_count": 3,
     "metadata": {},
     "output_type": "execute_result"
    }
   ],
   "source": [
    "#view the data\n",
    "scrapped_data.head()"
   ]
  },
  {
   "cell_type": "code",
   "execution_count": 4,
   "metadata": {},
   "outputs": [
    {
     "data": {
      "text/plain": [
       "(2765, 8)"
      ]
     },
     "execution_count": 4,
     "metadata": {},
     "output_type": "execute_result"
    }
   ],
   "source": [
    "#To find number of rows and columns in the dataset\n",
    "scrapped_data.shape"
   ]
  },
  {
   "cell_type": "code",
   "execution_count": 5,
   "metadata": {},
   "outputs": [
    {
     "data": {
      "text/plain": [
       "Index(['Unnamed: 0', 'Unnamed: 0.1', 'Job_Title', 'Company', 'Job_Location',\n",
       "       'Salaries', 'Job_Link', 'Job_Description'],\n",
       "      dtype='object')"
      ]
     },
     "execution_count": 5,
     "metadata": {},
     "output_type": "execute_result"
    }
   ],
   "source": [
    "#List of columns in the dataset\n",
    "scrapped_data.columns"
   ]
  },
  {
   "cell_type": "code",
   "execution_count": 6,
   "metadata": {},
   "outputs": [],
   "source": [
    "#Choosing the required columns for the analysis\n",
    "req_data = scrapped_data[['Job_Title','Salaries','Job_Description']]"
   ]
  },
  {
   "cell_type": "code",
   "execution_count": 7,
   "metadata": {},
   "outputs": [],
   "source": [
    "#Dropping the null values\n",
    "req_data = req_data.dropna()\n",
    "req_data = req_data.reset_index(drop=True)"
   ]
  },
  {
   "cell_type": "code",
   "execution_count": 8,
   "metadata": {},
   "outputs": [
    {
     "data": {
      "text/plain": [
       "Job_Title          object\n",
       "Salaries           object\n",
       "Job_Description    object\n",
       "dtype: object"
      ]
     },
     "execution_count": 8,
     "metadata": {},
     "output_type": "execute_result"
    }
   ],
   "source": [
    "#Checking the datatypes of the required columns\n",
    "req_data.dtypes"
   ]
  },
  {
   "cell_type": "code",
   "execution_count": 9,
   "metadata": {},
   "outputs": [
    {
     "data": {
      "text/html": [
       "<div>\n",
       "<style scoped>\n",
       "    .dataframe tbody tr th:only-of-type {\n",
       "        vertical-align: middle;\n",
       "    }\n",
       "\n",
       "    .dataframe tbody tr th {\n",
       "        vertical-align: top;\n",
       "    }\n",
       "\n",
       "    .dataframe thead th {\n",
       "        text-align: right;\n",
       "    }\n",
       "</style>\n",
       "<table border=\"1\" class=\"dataframe\">\n",
       "  <thead>\n",
       "    <tr style=\"text-align: right;\">\n",
       "      <th></th>\n",
       "      <th>Job_Title</th>\n",
       "      <th>Salaries</th>\n",
       "      <th>Job_Description</th>\n",
       "    </tr>\n",
       "  </thead>\n",
       "  <tbody>\n",
       "    <tr>\n",
       "      <th>0</th>\n",
       "      <td>Technical Business Analyst/Developer</td>\n",
       "      <td>60000 - 80000 a year</td>\n",
       "      <td>Technical Business Analyst We are seeking an e...</td>\n",
       "    </tr>\n",
       "    <tr>\n",
       "      <th>1</th>\n",
       "      <td>Senior Business Analyst</td>\n",
       "      <td>60000 - 100000 a year</td>\n",
       "      <td>Navirum is hiring a Senior Business Analyst fo...</td>\n",
       "    </tr>\n",
       "    <tr>\n",
       "      <th>2</th>\n",
       "      <td>Dynamics 365 Business Analyst / Functional Con...</td>\n",
       "      <td>80000 a year</td>\n",
       "      <td>We're looking for great people so together we ...</td>\n",
       "    </tr>\n",
       "    <tr>\n",
       "      <th>3</th>\n",
       "      <td>JUNIOR BUSINESS ANALYST</td>\n",
       "      <td>1258 - 1584 a week</td>\n",
       "      <td>About the Cluster\\n\\nThe Labour and Transporta...</td>\n",
       "    </tr>\n",
       "    <tr>\n",
       "      <th>4</th>\n",
       "      <td>Business Analyst</td>\n",
       "      <td>39.50 an hour</td>\n",
       "      <td>Evaluating business processes, anticipating re...</td>\n",
       "    </tr>\n",
       "    <tr>\n",
       "      <th>5</th>\n",
       "      <td>Business Analyst</td>\n",
       "      <td>75000 - 80000 a year</td>\n",
       "      <td>Airfoam Industries Ltd is a market leader in t...</td>\n",
       "    </tr>\n",
       "    <tr>\n",
       "      <th>6</th>\n",
       "      <td>Data Visualization Business Analyst (Temporary...</td>\n",
       "      <td>39.67 an hour</td>\n",
       "      <td>Do you love using your data skills to find out...</td>\n",
       "    </tr>\n",
       "    <tr>\n",
       "      <th>7</th>\n",
       "      <td>Business Analyst</td>\n",
       "      <td>42 an hour</td>\n",
       "      <td>TEI Inc. is looking for a full-time, permanent...</td>\n",
       "    </tr>\n",
       "    <tr>\n",
       "      <th>8</th>\n",
       "      <td>Technical Business Analyst/Developer</td>\n",
       "      <td>60000 - 80000 a year</td>\n",
       "      <td>Technical Business Analyst We are seeking an e...</td>\n",
       "    </tr>\n",
       "    <tr>\n",
       "      <th>9</th>\n",
       "      <td>Senior Business Analyst</td>\n",
       "      <td>60000 - 100000 a year</td>\n",
       "      <td>Navirum is hiring a Senior Business Analyst fo...</td>\n",
       "    </tr>\n",
       "  </tbody>\n",
       "</table>\n",
       "</div>"
      ],
      "text/plain": [
       "                                           Job_Title               Salaries  \\\n",
       "0               Technical Business Analyst/Developer   60000 - 80000 a year   \n",
       "1                            Senior Business Analyst  60000 - 100000 a year   \n",
       "2  Dynamics 365 Business Analyst / Functional Con...           80000 a year   \n",
       "3                            JUNIOR BUSINESS ANALYST     1258 - 1584 a week   \n",
       "4                                   Business Analyst          39.50 an hour   \n",
       "5                                   Business Analyst   75000 - 80000 a year   \n",
       "6  Data Visualization Business Analyst (Temporary...          39.67 an hour   \n",
       "7                                   Business Analyst             42 an hour   \n",
       "8               Technical Business Analyst/Developer   60000 - 80000 a year   \n",
       "9                            Senior Business Analyst  60000 - 100000 a year   \n",
       "\n",
       "                                     Job_Description  \n",
       "0  Technical Business Analyst We are seeking an e...  \n",
       "1  Navirum is hiring a Senior Business Analyst fo...  \n",
       "2  We're looking for great people so together we ...  \n",
       "3  About the Cluster\\n\\nThe Labour and Transporta...  \n",
       "4  Evaluating business processes, anticipating re...  \n",
       "5  Airfoam Industries Ltd is a market leader in t...  \n",
       "6  Do you love using your data skills to find out...  \n",
       "7  TEI Inc. is looking for a full-time, permanent...  \n",
       "8  Technical Business Analyst We are seeking an e...  \n",
       "9  Navirum is hiring a Senior Business Analyst fo...  "
      ]
     },
     "execution_count": 9,
     "metadata": {},
     "output_type": "execute_result"
    }
   ],
   "source": [
    "#Replacing $ and , symbols with empty space from the Salaries \n",
    "req_data['Salaries'] = req_data['Salaries'].str.replace(\"$\",\"\")\n",
    "req_data['Salaries'] = req_data['Salaries'].str.replace(\",\",\"\")\n",
    "req_data.head(10)"
   ]
  },
  {
   "cell_type": "code",
   "execution_count": 10,
   "metadata": {},
   "outputs": [],
   "source": [
    "#Finding the mean value of the salaries column and storing it in a new column\n",
    "req_data['Mean_sal'] = pd.DataFrame(req_data['Salaries'].str.findall('(\\d+)').values.tolist(),\n",
    "                              index=req_data.index).astype(float).mean(1)"
   ]
  },
  {
   "cell_type": "code",
   "execution_count": 11,
   "metadata": {},
   "outputs": [
    {
     "data": {
      "text/html": [
       "<div>\n",
       "<style scoped>\n",
       "    .dataframe tbody tr th:only-of-type {\n",
       "        vertical-align: middle;\n",
       "    }\n",
       "\n",
       "    .dataframe tbody tr th {\n",
       "        vertical-align: top;\n",
       "    }\n",
       "\n",
       "    .dataframe thead th {\n",
       "        text-align: right;\n",
       "    }\n",
       "</style>\n",
       "<table border=\"1\" class=\"dataframe\">\n",
       "  <thead>\n",
       "    <tr style=\"text-align: right;\">\n",
       "      <th></th>\n",
       "      <th>Job_Title</th>\n",
       "      <th>Salaries</th>\n",
       "      <th>Job_Description</th>\n",
       "      <th>Mean_sal</th>\n",
       "    </tr>\n",
       "  </thead>\n",
       "  <tbody>\n",
       "    <tr>\n",
       "      <th>0</th>\n",
       "      <td>Technical Business Analyst/Developer</td>\n",
       "      <td>60000 - 80000 a year</td>\n",
       "      <td>Technical Business Analyst We are seeking an e...</td>\n",
       "      <td>70000.0</td>\n",
       "    </tr>\n",
       "    <tr>\n",
       "      <th>1</th>\n",
       "      <td>Senior Business Analyst</td>\n",
       "      <td>60000 - 100000 a year</td>\n",
       "      <td>Navirum is hiring a Senior Business Analyst fo...</td>\n",
       "      <td>80000.0</td>\n",
       "    </tr>\n",
       "    <tr>\n",
       "      <th>2</th>\n",
       "      <td>Dynamics 365 Business Analyst / Functional Con...</td>\n",
       "      <td>80000 a year</td>\n",
       "      <td>We're looking for great people so together we ...</td>\n",
       "      <td>80000.0</td>\n",
       "    </tr>\n",
       "    <tr>\n",
       "      <th>3</th>\n",
       "      <td>JUNIOR BUSINESS ANALYST</td>\n",
       "      <td>1258 - 1584 a week</td>\n",
       "      <td>About the Cluster\\n\\nThe Labour and Transporta...</td>\n",
       "      <td>1421.0</td>\n",
       "    </tr>\n",
       "    <tr>\n",
       "      <th>4</th>\n",
       "      <td>Business Analyst</td>\n",
       "      <td>39.50 an hour</td>\n",
       "      <td>Evaluating business processes, anticipating re...</td>\n",
       "      <td>44.5</td>\n",
       "    </tr>\n",
       "    <tr>\n",
       "      <th>5</th>\n",
       "      <td>Business Analyst</td>\n",
       "      <td>75000 - 80000 a year</td>\n",
       "      <td>Airfoam Industries Ltd is a market leader in t...</td>\n",
       "      <td>77500.0</td>\n",
       "    </tr>\n",
       "    <tr>\n",
       "      <th>6</th>\n",
       "      <td>Data Visualization Business Analyst (Temporary...</td>\n",
       "      <td>39.67 an hour</td>\n",
       "      <td>Do you love using your data skills to find out...</td>\n",
       "      <td>53.0</td>\n",
       "    </tr>\n",
       "    <tr>\n",
       "      <th>7</th>\n",
       "      <td>Business Analyst</td>\n",
       "      <td>42 an hour</td>\n",
       "      <td>TEI Inc. is looking for a full-time, permanent...</td>\n",
       "      <td>42.0</td>\n",
       "    </tr>\n",
       "    <tr>\n",
       "      <th>8</th>\n",
       "      <td>Technical Business Analyst/Developer</td>\n",
       "      <td>60000 - 80000 a year</td>\n",
       "      <td>Technical Business Analyst We are seeking an e...</td>\n",
       "      <td>70000.0</td>\n",
       "    </tr>\n",
       "    <tr>\n",
       "      <th>9</th>\n",
       "      <td>Senior Business Analyst</td>\n",
       "      <td>60000 - 100000 a year</td>\n",
       "      <td>Navirum is hiring a Senior Business Analyst fo...</td>\n",
       "      <td>80000.0</td>\n",
       "    </tr>\n",
       "  </tbody>\n",
       "</table>\n",
       "</div>"
      ],
      "text/plain": [
       "                                           Job_Title               Salaries  \\\n",
       "0               Technical Business Analyst/Developer   60000 - 80000 a year   \n",
       "1                            Senior Business Analyst  60000 - 100000 a year   \n",
       "2  Dynamics 365 Business Analyst / Functional Con...           80000 a year   \n",
       "3                            JUNIOR BUSINESS ANALYST     1258 - 1584 a week   \n",
       "4                                   Business Analyst          39.50 an hour   \n",
       "5                                   Business Analyst   75000 - 80000 a year   \n",
       "6  Data Visualization Business Analyst (Temporary...          39.67 an hour   \n",
       "7                                   Business Analyst             42 an hour   \n",
       "8               Technical Business Analyst/Developer   60000 - 80000 a year   \n",
       "9                            Senior Business Analyst  60000 - 100000 a year   \n",
       "\n",
       "                                     Job_Description  Mean_sal  \n",
       "0  Technical Business Analyst We are seeking an e...   70000.0  \n",
       "1  Navirum is hiring a Senior Business Analyst fo...   80000.0  \n",
       "2  We're looking for great people so together we ...   80000.0  \n",
       "3  About the Cluster\\n\\nThe Labour and Transporta...    1421.0  \n",
       "4  Evaluating business processes, anticipating re...      44.5  \n",
       "5  Airfoam Industries Ltd is a market leader in t...   77500.0  \n",
       "6  Do you love using your data skills to find out...      53.0  \n",
       "7  TEI Inc. is looking for a full-time, permanent...      42.0  \n",
       "8  Technical Business Analyst We are seeking an e...   70000.0  \n",
       "9  Navirum is hiring a Senior Business Analyst fo...   80000.0  "
      ]
     },
     "execution_count": 11,
     "metadata": {},
     "output_type": "execute_result"
    }
   ],
   "source": [
    "req_data.head(10)"
   ]
  },
  {
   "cell_type": "code",
   "execution_count": 12,
   "metadata": {},
   "outputs": [],
   "source": [
    "#Stroing hourly, weekly, monthly salary from salaries column in three different columns\n",
    "hour_sal = req_data['Salaries'].str.contains('hour')\n",
    "week_sal = req_data['Salaries'].str.contains('week')\n",
    "month_sal = req_data['Salaries'].str.contains('month')"
   ]
  },
  {
   "cell_type": "code",
   "execution_count": 13,
   "metadata": {},
   "outputs": [],
   "source": [
    "#Caculating the final salary based on hourly, weekly, monthly salaries\n",
    "req_data['Final_Salary'] =np.select([hour_sal, week_sal,month_sal ], \n",
    "                          [req_data['Mean_sal'] * 1920,req_data['Mean_sal'] * 52,req_data['Mean_sal'] * 12], default=req_data['Mean_sal'])\n"
   ]
  },
  {
   "cell_type": "code",
   "execution_count": 14,
   "metadata": {},
   "outputs": [
    {
     "data": {
      "text/plain": [
       "0        70000.0\n",
       "1        80000.0\n",
       "2        80000.0\n",
       "3        73892.0\n",
       "4        85440.0\n",
       "          ...   \n",
       "1400    113000.0\n",
       "1401     94000.0\n",
       "1402     94000.0\n",
       "1403     85000.0\n",
       "1404     80000.0\n",
       "Name: Final_Salary, Length: 1405, dtype: float64"
      ]
     },
     "execution_count": 14,
     "metadata": {},
     "output_type": "execute_result"
    }
   ],
   "source": [
    "#To view the data in final_salary column\n",
    "req_data['Final_Salary']"
   ]
  },
  {
   "cell_type": "code",
   "execution_count": 15,
   "metadata": {},
   "outputs": [
    {
     "data": {
      "text/plain": [
       "<matplotlib.axes._subplots.AxesSubplot at 0x2c65dca7048>"
      ]
     },
     "execution_count": 15,
     "metadata": {},
     "output_type": "execute_result"
    },
    {
     "data": {
      "image/png": "[encoded data removed]",
      "text/plain": [
       "<Figure size 432x288 with 1 Axes>"
      ]
     },
     "metadata": {
      "needs_background": "light"
     },
     "output_type": "display_data"
    }
   ],
   "source": [
    "#Plot of histogram on finalsalary column\n",
    "req_data['Final_Salary'].plot(kind='hist')"
   ]
  },
  {
   "cell_type": "code",
   "execution_count": 16,
   "metadata": {},
   "outputs": [],
   "source": [
    "#Create Bins\n",
    "BINS = [0,50000,70000,90000,120000,150000,400000]\n",
    "\n",
    "# 0 - below 50k\n",
    "# 1 - 50k - 70k\n",
    "# 2 - 70k - 90k\n",
    "# 3 - 90k - 120k\n",
    "# 4 - 120k - 150k\n",
    "# 5 - 150k - 400k"
   ]
  },
  {
   "cell_type": "code",
   "execution_count": 17,
   "metadata": {},
   "outputs": [],
   "source": [
    "#storing the bin values of final_Salary in salary_bins column\n",
    "req_data['Salary_BINS']= pd.cut(x=req_data['Final_Salary'], bins=BINS, labels=False)"
   ]
  },
  {
   "cell_type": "code",
   "execution_count": 18,
   "metadata": {},
   "outputs": [],
   "source": [
    "#Exporting the data after creating bins \n",
    "req_data.to_csv('Data_After_Binning.csv')"
   ]
  },
  {
   "cell_type": "markdown",
   "metadata": {},
   "source": [
    "# Model Building"
   ]
  },
  {
   "cell_type": "markdown",
   "metadata": {},
   "source": [
    "### TfidfVectorizer"
   ]
  },
  {
   "cell_type": "markdown",
   "metadata": {},
   "source": [
    "TF-IDF is an abbreviation for Term Frequency Inverse Document Frequency. This is most commonly used algorithm which transforms text to feature vectors that can be used as input to estimator."
   ]
  },
  {
   "cell_type": "code",
   "execution_count": 19,
   "metadata": {},
   "outputs": [],
   "source": [
    "# choosing features and target\n",
    "X = req_data['Job_Description']\n",
    "Y = req_data['Salary_BINS']"
   ]
  },
  {
   "cell_type": "code",
   "execution_count": 20,
   "metadata": {},
   "outputs": [],
   "source": [
    "#split the dataset into 70% training set and 30% test set\n",
    "X_train,X_test, Y_train,Y_test = train_test_split(X,Y,test_size=0.3,random_state=42)\n"
   ]
  },
  {
   "cell_type": "code",
   "execution_count": 41,
   "metadata": {},
   "outputs": [
    {
     "data": {
      "text/plain": [
       "810     Duties and Responsibilities include the follow...\n",
       "772     We are looking for a Sales and Marketing Coord...\n",
       "427     HPC / Computational Data Scientist with Cleara...\n",
       "931     Title: IT Business Analyst\\rLocation: Alhambra...\n",
       "236     Job Summary\\nDefine, develop and lead a data s...\n",
       "                              ...                        \n",
       "1095    Behavior Interventions is a rapidly expanding ...\n",
       "1130    We are looking for a talented and versatile So...\n",
       "1294    We are looking for a talented Social media/Mar...\n",
       "860     Hi,\\rI am ARON from VedaInfo Inc., is a highly...\n",
       "1126    Warehouse Supervisor\\rCapstone is a leading No...\n",
       "Name: Job_Description, Length: 983, dtype: object"
      ]
     },
     "execution_count": 41,
     "metadata": {},
     "output_type": "execute_result"
    }
   ],
   "source": [
    "X_train"
   ]
  },
  {
   "cell_type": "code",
   "execution_count": 42,
   "metadata": {},
   "outputs": [
    {
     "data": {
      "text/plain": [
       "810     1\n",
       "772     5\n",
       "427     5\n",
       "931     3\n",
       "236     3\n",
       "       ..\n",
       "1095    1\n",
       "1130    0\n",
       "1294    0\n",
       "860     1\n",
       "1126    0\n",
       "Name: Salary_BINS, Length: 983, dtype: int64"
      ]
     },
     "execution_count": 42,
     "metadata": {},
     "output_type": "execute_result"
    }
   ],
   "source": [
    "Y_train"
   ]
  },
  {
   "cell_type": "code",
   "execution_count": 43,
   "metadata": {},
   "outputs": [
    {
     "data": {
      "text/plain": [
       "1074    Software Developer _ÑÐ ELK/Python\\rLocation: P...\n",
       "494     Job Description\\rResponsibilities for IT Busin...\n",
       "649     Entry Level Business Analyst\\rResponsibilities...\n",
       "654     Who are you? You_Ñére ready to join an organiz...\n",
       "953     A rewarding opportunity has now become availab...\n",
       "                              ...                        \n",
       "287     Job DescriptionThe Data & Reporting Analyst is...\n",
       "1354    The Director of Marketing is responsible for c...\n",
       "1167    Interview Query is a rapidly growing data scie...\n",
       "294     Title: Data Entry Operator - London\\nDepartmen...\n",
       "818     Common Capital\\rCredit Analyst and Data Coordi...\n",
       "Name: Job_Description, Length: 422, dtype: object"
      ]
     },
     "execution_count": 43,
     "metadata": {},
     "output_type": "execute_result"
    }
   ],
   "source": [
    "X_test"
   ]
  },
  {
   "cell_type": "code",
   "execution_count": 44,
   "metadata": {},
   "outputs": [
    {
     "data": {
      "text/plain": [
       "1074    3\n",
       "494     1\n",
       "649     1\n",
       "654     0\n",
       "953     4\n",
       "       ..\n",
       "287     0\n",
       "1354    4\n",
       "1167    0\n",
       "294     2\n",
       "818     1\n",
       "Name: Salary_BINS, Length: 422, dtype: int64"
      ]
     },
     "execution_count": 44,
     "metadata": {},
     "output_type": "execute_result"
    }
   ],
   "source": [
    "Y_test"
   ]
  },
  {
   "cell_type": "code",
   "execution_count": 21,
   "metadata": {},
   "outputs": [
    {
     "data": {
      "text/plain": [
       "Pipeline(memory=None,\n",
       "         steps=[('vect',\n",
       "                 TfidfVectorizer(analyzer='word', binary=False,\n",
       "                                 decode_error='strict',\n",
       "                                 dtype=<class 'numpy.float64'>,\n",
       "                                 encoding='utf-8', input='content',\n",
       "                                 lowercase=True, max_df=1.0, max_features=None,\n",
       "                                 min_df=1, ngram_range=(1, 1), norm='l2',\n",
       "                                 preprocessor=None, smooth_idf=True,\n",
       "                                 stop_words=None, strip_accents=None,\n",
       "                                 sublinear_tf=False,\n",
       "                                 token_pattern='(?u)\\\\b\\\\w\\\\w+\\\\b',\n",
       "                                 tokenizer=None, use_idf=True,\n",
       "                                 vocabulary=None)),\n",
       "                ('clf',\n",
       "                 MultinomialNB(alpha=1.0, class_prior=None, fit_prior=True))],\n",
       "         verbose=False)"
      ]
     },
     "execution_count": 21,
     "metadata": {},
     "output_type": "execute_result"
    }
   ],
   "source": [
    "# train the model\n",
    "text_clf.fit(X_train, Y_train)\n"
   ]
  },
  {
   "cell_type": "code",
   "execution_count": 22,
   "metadata": {},
   "outputs": [],
   "source": [
    "# Predict the train cases\n",
    "predicted_train = text_clf.predict(X_train)"
   ]
  },
  {
   "cell_type": "code",
   "execution_count": 45,
   "metadata": {},
   "outputs": [
    {
     "name": "stdout",
     "output_type": "stream",
     "text": [
      "Accuracy for train using TFID 0.6561546286876907\n"
     ]
    }
   ],
   "source": [
    "# Train Accuracy\n",
    "print(\"Accuracy for train using TFID\",accuracy_score(predicted_train,Y_train))"
   ]
  },
  {
   "cell_type": "code",
   "execution_count": 24,
   "metadata": {},
   "outputs": [],
   "source": [
    "# Predict the test cases\n",
    "predicted_test = text_clf.predict(X_test)"
   ]
  },
  {
   "cell_type": "code",
   "execution_count": 46,
   "metadata": {},
   "outputs": [
    {
     "name": "stdout",
     "output_type": "stream",
     "text": [
      "Accuracy for test using TFID 0.44549763033175355\n"
     ]
    }
   ],
   "source": [
    "# Test Accuracy\n",
    "print(\"Accuracy for test using TFID\",accuracy_score(predicted_test,Y_test))"
   ]
  },
  {
   "cell_type": "markdown",
   "metadata": {},
   "source": [
    "### TfidfVectorizer with classification"
   ]
  },
  {
   "cell_type": "code",
   "execution_count": 26,
   "metadata": {},
   "outputs": [
    {
     "name": "stdout",
     "output_type": "stream",
     "text": [
      "PAC Accuracy: 61.37%\n"
     ]
    },
    {
     "name": "stderr",
     "output_type": "stream",
     "text": [
      "[Parallel(n_jobs=3)]: Using backend ThreadingBackend with 3 concurrent workers.\n",
      "[Parallel(n_jobs=3)]: Done  44 tasks      | elapsed:    0.4s\n",
      "[Parallel(n_jobs=3)]: Done 194 tasks      | elapsed:    2.1s\n",
      "[Parallel(n_jobs=3)]: Done 444 tasks      | elapsed:    4.3s\n",
      "[Parallel(n_jobs=3)]: Done 794 tasks      | elapsed:    7.0s\n",
      "[Parallel(n_jobs=3)]: Done 1244 tasks      | elapsed:   10.9s\n",
      "[Parallel(n_jobs=3)]: Done 1794 tasks      | elapsed:   15.5s\n",
      "[Parallel(n_jobs=3)]: Done 2444 tasks      | elapsed:   20.8s\n",
      "[Parallel(n_jobs=3)]: Done 3194 tasks      | elapsed:   26.9s\n",
      "[Parallel(n_jobs=3)]: Done 4044 tasks      | elapsed:   34.2s\n",
      "[Parallel(n_jobs=3)]: Done 4994 tasks      | elapsed:   42.8s\n",
      "[Parallel(n_jobs=3)]: Done 5000 out of 5000 | elapsed:   42.9s finished\n",
      "[Parallel(n_jobs=3)]: Using backend ThreadingBackend with 3 concurrent workers.\n",
      "[Parallel(n_jobs=3)]: Done  44 tasks      | elapsed:    0.1s\n",
      "[Parallel(n_jobs=3)]: Done 194 tasks      | elapsed:    0.3s\n",
      "[Parallel(n_jobs=3)]: Done 444 tasks      | elapsed:    0.7s\n",
      "[Parallel(n_jobs=3)]: Done 794 tasks      | elapsed:    1.1s\n",
      "[Parallel(n_jobs=3)]: Done 1244 tasks      | elapsed:    1.8s\n",
      "[Parallel(n_jobs=3)]: Done 1794 tasks      | elapsed:    2.6s\n",
      "[Parallel(n_jobs=3)]: Done 2444 tasks      | elapsed:    3.7s\n",
      "[Parallel(n_jobs=3)]: Done 3194 tasks      | elapsed:    4.8s\n",
      "[Parallel(n_jobs=3)]: Done 4044 tasks      | elapsed:    6.0s\n",
      "[Parallel(n_jobs=3)]: Done 4994 tasks      | elapsed:    7.3s\n",
      "[Parallel(n_jobs=3)]: Done 5000 out of 5000 | elapsed:    7.3s finished\n"
     ]
    },
    {
     "name": "stdout",
     "output_type": "stream",
     "text": [
      "RANDOM-FOREST Accuracy: 64.69%\n",
      "XGB-Classifier 0.6137440758293838\n",
      "[0]\tvalidation_0-merror:0.51896\n",
      "[1]\tvalidation_0-merror:0.49289\n",
      "[2]\tvalidation_0-merror:0.42654\n",
      "[3]\tvalidation_0-merror:0.42654\n",
      "[4]\tvalidation_0-merror:0.42654\n",
      "[5]\tvalidation_0-merror:0.42654\n",
      "[6]\tvalidation_0-merror:0.41706\n",
      "[7]\tvalidation_0-merror:0.41469\n",
      "[8]\tvalidation_0-merror:0.40521\n",
      "[9]\tvalidation_0-merror:0.39337\n",
      "[10]\tvalidation_0-merror:0.39099\n",
      "[11]\tvalidation_0-merror:0.38863\n",
      "[12]\tvalidation_0-merror:0.38863\n",
      "[13]\tvalidation_0-merror:0.38626\n",
      "[14]\tvalidation_0-merror:0.38863\n",
      "[15]\tvalidation_0-merror:0.39337\n",
      "[16]\tvalidation_0-merror:0.39099\n",
      "[17]\tvalidation_0-merror:0.39810\n",
      "[18]\tvalidation_0-merror:0.39099\n",
      "[19]\tvalidation_0-merror:0.40284\n",
      "[20]\tvalidation_0-merror:0.39099\n",
      "[21]\tvalidation_0-merror:0.39337\n",
      "[22]\tvalidation_0-merror:0.37678\n",
      "[23]\tvalidation_0-merror:0.37678\n",
      "[24]\tvalidation_0-merror:0.37915\n",
      "[25]\tvalidation_0-merror:0.38152\n",
      "[26]\tvalidation_0-merror:0.37678\n",
      "[27]\tvalidation_0-merror:0.38863\n",
      "[28]\tvalidation_0-merror:0.38863\n",
      "[29]\tvalidation_0-merror:0.39337\n",
      "[30]\tvalidation_0-merror:0.39099\n",
      "[31]\tvalidation_0-merror:0.39337\n",
      "[32]\tvalidation_0-merror:0.39337\n",
      "[33]\tvalidation_0-merror:0.39337\n",
      "[34]\tvalidation_0-merror:0.38626\n",
      "[35]\tvalidation_0-merror:0.39337\n",
      "[36]\tvalidation_0-merror:0.39574\n",
      "[37]\tvalidation_0-merror:0.39810\n",
      "[38]\tvalidation_0-merror:0.39574\n",
      "[39]\tvalidation_0-merror:0.39099\n",
      "[40]\tvalidation_0-merror:0.37915\n",
      "[41]\tvalidation_0-merror:0.38626\n",
      "[42]\tvalidation_0-merror:0.38152\n",
      "[43]\tvalidation_0-merror:0.38152\n",
      "[44]\tvalidation_0-merror:0.37915\n",
      "[45]\tvalidation_0-merror:0.38389\n",
      "[46]\tvalidation_0-merror:0.38626\n",
      "[47]\tvalidation_0-merror:0.37678\n",
      "[48]\tvalidation_0-merror:0.37441\n",
      "[49]\tvalidation_0-merror:0.37204\n",
      "[50]\tvalidation_0-merror:0.36493\n",
      "[51]\tvalidation_0-merror:0.36730\n",
      "[52]\tvalidation_0-merror:0.36967\n",
      "[53]\tvalidation_0-merror:0.36730\n",
      "[54]\tvalidation_0-merror:0.36967\n",
      "[55]\tvalidation_0-merror:0.37204\n",
      "[56]\tvalidation_0-merror:0.36967\n",
      "[57]\tvalidation_0-merror:0.36967\n",
      "[58]\tvalidation_0-merror:0.37204\n",
      "[59]\tvalidation_0-merror:0.37204\n",
      "[60]\tvalidation_0-merror:0.36967\n",
      "[61]\tvalidation_0-merror:0.36730\n",
      "[62]\tvalidation_0-merror:0.36967\n",
      "[63]\tvalidation_0-merror:0.36730\n",
      "[64]\tvalidation_0-merror:0.36493\n",
      "[65]\tvalidation_0-merror:0.36730\n",
      "[66]\tvalidation_0-merror:0.37441\n",
      "[67]\tvalidation_0-merror:0.36967\n",
      "[68]\tvalidation_0-merror:0.36967\n",
      "[69]\tvalidation_0-merror:0.36967\n",
      "[70]\tvalidation_0-merror:0.36967\n",
      "[71]\tvalidation_0-merror:0.36967\n",
      "[72]\tvalidation_0-merror:0.36730\n",
      "[73]\tvalidation_0-merror:0.36967\n",
      "[74]\tvalidation_0-merror:0.37204\n",
      "[75]\tvalidation_0-merror:0.37204\n",
      "[76]\tvalidation_0-merror:0.37204\n",
      "[77]\tvalidation_0-merror:0.37441\n",
      "[78]\tvalidation_0-merror:0.37204\n",
      "[79]\tvalidation_0-merror:0.37204\n",
      "[80]\tvalidation_0-merror:0.37204\n",
      "[81]\tvalidation_0-merror:0.37204\n",
      "[82]\tvalidation_0-merror:0.37204\n",
      "[83]\tvalidation_0-merror:0.37204\n",
      "[84]\tvalidation_0-merror:0.37441\n",
      "[85]\tvalidation_0-merror:0.37678\n",
      "[86]\tvalidation_0-merror:0.37441\n",
      "[87]\tvalidation_0-merror:0.37441\n",
      "[88]\tvalidation_0-merror:0.37441\n",
      "[89]\tvalidation_0-merror:0.38152\n",
      "[90]\tvalidation_0-merror:0.38152\n",
      "[91]\tvalidation_0-merror:0.38389\n",
      "[92]\tvalidation_0-merror:0.38389\n",
      "[93]\tvalidation_0-merror:0.38389\n",
      "[94]\tvalidation_0-merror:0.38863\n",
      "[95]\tvalidation_0-merror:0.38389\n",
      "[96]\tvalidation_0-merror:0.38626\n",
      "[97]\tvalidation_0-merror:0.38389\n",
      "[98]\tvalidation_0-merror:0.38863\n",
      "[99]\tvalidation_0-merror:0.38626\n",
      "Gradient Boosting 0.6137440758293838\n"
     ]
    }
   ],
   "source": [
    "#split the dataset\n",
    "X_train,X_test, Y_train,Y_test = train_test_split(X,Y,test_size=0.3,random_state=42)\n",
    "   \n",
    "#tfidverctorizer\n",
    "tfidf_vectorizer=TfidfVectorizer(stop_words='english', max_df=0.7)\n",
    "\n",
    "#Fit and transform train set, transform test set\n",
    "tfidf_train=tfidf_vectorizer.fit_transform(X_train) \n",
    "tfidf_test=tfidf_vectorizer.transform(X_test)\n",
    "\n",
    "#Prediction and accuracy calculation using PassiveAggressiveClassifier\n",
    "pac=PassiveAggressiveClassifier(max_iter=50)\n",
    "pac.fit(tfidf_train,Y_train)\n",
    "#Predict on the test set and calculate accuracy\n",
    "y_pred=pac.predict(tfidf_test)\n",
    "score=accuracy_score(y_pred,Y_test)\n",
    "print(\"PAC\",f'Accuracy: {round(score*100,2)}%')\n",
    "\n",
    "#Prediction and accuracy calculation using Randomforest\n",
    "rfc=RandomForestClassifier(n_estimators=5000, criterion='entropy', verbose=True, n_jobs=3)\n",
    "rfc.fit(tfidf_train,Y_train)\n",
    "y_pred=rfc.predict(tfidf_test)\n",
    "score=accuracy_score(y_pred,Y_test)\n",
    "print(\"RANDOM-FOREST\",f'Accuracy: {round(score*100,2)}%')\n",
    "\n",
    "#Prediction and accuracy calculation using XGBClassifier\n",
    "xgb= XGBClassifier(random_state=42)\n",
    "xgb.fit(tfidf_train, Y_train)\n",
    "y_pred = xgb.predict(tfidf_test)\n",
    "print(\"XGB-Classifier\",accuracy_score(Y_test, y_pred))\n",
    "\n",
    "# we can set the evaluation test and look at the validation results of all the gradient boosting\n",
    "eval_set=[(tfidf_test, Y_test)]\n",
    "xgb.fit(tfidf_train, Y_train, eval_set=eval_set, eval_metric='merror',verbose=True)\n",
    "y_pred = xgb.predict(tfidf_test)\n",
    "print(\"Gradient Boosting\",accuracy_score(Y_test, y_pred))\n"
   ]
  },
  {
   "cell_type": "markdown",
   "metadata": {},
   "source": [
    "### Word2vec with classification"
   ]
  },
  {
   "cell_type": "markdown",
   "metadata": {},
   "source": [
    "Word2vec is a two-layer neural net that processes text by vectorizing words. Its input is a text corpus and its output is a set of vectors that represent words in that corpus. It turns text into a numerical form that deep neural networks can understand.\n",
    "\n",
    "The purpose and usefulness of Word2vec is to group the vectors of similar words together in vectorspace. That is, it detects similarities mathematically. Word2vec creates vectors that are distributed numerical representations of word features, features such as the context of individual words which can be fed into a deep-learning net or simply queried to detect relationships between words."
   ]
  },
  {
   "cell_type": "code",
   "execution_count": 27,
   "metadata": {},
   "outputs": [],
   "source": [
    "#split the dataset into 70% training set and 30% test set\n",
    "X_train,X_test, Y_train,Y_test = train_test_split(X,Y,test_size=0.3,random_state=42)\n",
    "\n",
    "# Creating CBOW model \n",
    "model3 = Word2Vec(X, min_count = 4, size = 64, window = 5, workers=4) \n",
    "\n",
    "#Get the word vector for a given word\n",
    "model3.wv.most_similar('x')\n",
    "\n",
    "#creating dictionary to use in the pipeline \n",
    "w2v = dict(zip(model3.wv.index2word, model3.wv.vectors))\n",
    "\n",
    "#Averaging word vectors for all words in the text\n",
    "class MeanEmbeddingVectorizer(object):\n",
    "    def __init__(self, word2vec):\n",
    "        self.word2vec = word2vec\n",
    "        self.dim = len(word2vec.values())\n",
    "\n",
    "    def fit(self, x, y):\n",
    "        return self\n",
    "\n",
    "    def transform(self, x):\n",
    "        return np.array([\n",
    "            np.mean([self.word2vec[w] for w in words if w in self.word2vec]\n",
    "                    or [np.zeros(self.dim)], axis=0)\n",
    "            for words in x\n",
    "        ])"
   ]
  },
  {
   "cell_type": "code",
   "execution_count": 49,
   "metadata": {},
   "outputs": [
    {
     "name": "stdout",
     "output_type": "stream",
     "text": [
      "Model score using Word2Vec and different Classifiers:\n"
     ]
    },
    {
     "name": "stderr",
     "output_type": "stream",
     "text": [
      "C:\\Users\\300297872\\Anaconda3\\lib\\site-packages\\sklearn\\linear_model\\_logistic.py:940: ConvergenceWarning: lbfgs failed to converge (status=1):\n",
      "STOP: TOTAL NO. of ITERATIONS REACHED LIMIT.\n",
      "\n",
      "Increase the number of iterations (max_iter) or scale the data as shown in:\n",
      "    https://scikit-learn.org/stable/modules/preprocessing.html\n",
      "Please also refer to the documentation for alternative solver options:\n",
      "    https://scikit-learn.org/stable/modules/linear_model.html#logistic-regression\n",
      "  extra_warning_msg=_LOGISTIC_SOLVER_CONVERGENCE_MSG)\n"
     ]
    },
    {
     "name": "stdout",
     "output_type": "stream",
     "text": [
      "LogisticRegression(C=1.0, class_weight=None, dual=False, fit_intercept=True,\n",
      "                   intercept_scaling=1, l1_ratio=None, max_iter=100,\n",
      "                   multi_class='auto', n_jobs=None, penalty='l2',\n",
      "                   random_state=None, solver='lbfgs', tol=0.0001, verbose=0,\n",
      "                   warm_start=False)\n",
      "model score: 0.313\n",
      "\n",
      " -----------------------------------------------------------------------------------\n",
      "KNeighborsClassifier(algorithm='auto', leaf_size=30, metric='minkowski',\n",
      "                     metric_params=None, n_jobs=None, n_neighbors=3, p=2,\n",
      "                     weights='uniform')\n",
      "model score: 0.372\n",
      "\n",
      " -----------------------------------------------------------------------------------\n",
      "SVC(C=0.025, break_ties=False, cache_size=200, class_weight=None, coef0=0.0,\n",
      "    decision_function_shape='ovr', degree=3, gamma='scale', kernel='linear',\n",
      "    max_iter=-1, probability=False, random_state=None, shrinking=True,\n",
      "    tol=0.001, verbose=False)\n",
      "model score: 0.201\n",
      "\n",
      " -----------------------------------------------------------------------------------\n",
      "SVC(C=1, break_ties=False, cache_size=200, class_weight=None, coef0=0.0,\n",
      "    decision_function_shape='ovr', degree=3, gamma=2, kernel='rbf', max_iter=-1,\n",
      "    probability=False, random_state=None, shrinking=True, tol=0.001,\n",
      "    verbose=False)\n",
      "model score: 0.358\n",
      "\n",
      " -----------------------------------------------------------------------------------\n",
      "DecisionTreeClassifier(ccp_alpha=0.0, class_weight=None, criterion='gini',\n",
      "                       max_depth=5, max_features=None, max_leaf_nodes=None,\n",
      "                       min_impurity_decrease=0.0, min_impurity_split=None,\n",
      "                       min_samples_leaf=1, min_samples_split=2,\n",
      "                       min_weight_fraction_leaf=0.0, presort='deprecated',\n",
      "                       random_state=None, splitter='best')\n",
      "model score: 0.348\n",
      "\n",
      " -----------------------------------------------------------------------------------\n",
      "GaussianNB(priors=None, var_smoothing=1e-09)\n",
      "model score: 0.268\n",
      "\n",
      " -----------------------------------------------------------------------------------\n"
     ]
    },
    {
     "name": "stderr",
     "output_type": "stream",
     "text": [
      "[Parallel(n_jobs=3)]: Using backend ThreadingBackend with 3 concurrent workers.\n",
      "[Parallel(n_jobs=3)]: Done  44 tasks      | elapsed:    0.3s\n",
      "[Parallel(n_jobs=3)]: Done 100 out of 100 | elapsed:    0.8s finished\n"
     ]
    },
    {
     "name": "stdout",
     "output_type": "stream",
     "text": [
      "RandomForestClassifier(bootstrap=True, ccp_alpha=0.0, class_weight=None,\n",
      "                       criterion='entropy', max_depth=None, max_features='auto',\n",
      "                       max_leaf_nodes=None, max_samples=None,\n",
      "                       min_impurity_decrease=0.0, min_impurity_split=None,\n",
      "                       min_samples_leaf=1, min_samples_split=2,\n",
      "                       min_weight_fraction_leaf=0.0, n_estimators=100, n_jobs=3,\n",
      "                       oob_score=False, random_state=None, verbose=True,\n",
      "                       warm_start=False)\n"
     ]
    },
    {
     "name": "stderr",
     "output_type": "stream",
     "text": [
      "[Parallel(n_jobs=3)]: Using backend ThreadingBackend with 3 concurrent workers.\n",
      "[Parallel(n_jobs=3)]: Done  44 tasks      | elapsed:    0.0s\n",
      "[Parallel(n_jobs=3)]: Done 100 out of 100 | elapsed:    0.0s finished\n",
      "[Parallel(n_jobs=3)]: Using backend ThreadingBackend with 3 concurrent workers.\n",
      "[Parallel(n_jobs=3)]: Done  44 tasks      | elapsed:    0.0s\n",
      "[Parallel(n_jobs=3)]: Done 100 out of 100 | elapsed:    0.0s finished\n"
     ]
    },
    {
     "name": "stdout",
     "output_type": "stream",
     "text": [
      "model score: 0.536\n",
      "\n",
      " -----------------------------------------------------------------------------------\n",
      "BaggingClassifier(base_estimator=None, bootstrap=True, bootstrap_features=False,\n",
      "                  max_features=1.0, max_samples=1.0, n_estimators=10,\n",
      "                  n_jobs=None, oob_score=False, random_state=None, verbose=0,\n",
      "                  warm_start=False)\n",
      "model score: 0.533\n",
      "\n",
      " -----------------------------------------------------------------------------------\n",
      "AdaBoostClassifier(algorithm='SAMME.R',\n",
      "                   base_estimator=DecisionTreeClassifier(ccp_alpha=0.0,\n",
      "                                                         class_weight=None,\n",
      "                                                         criterion='gini',\n",
      "                                                         max_depth=5,\n",
      "                                                         max_features=None,\n",
      "                                                         max_leaf_nodes=None,\n",
      "                                                         min_impurity_decrease=0.0,\n",
      "                                                         min_impurity_split=None,\n",
      "                                                         min_samples_leaf=1,\n",
      "                                                         min_samples_split=2,\n",
      "                                                         min_weight_fraction_leaf=0.0,\n",
      "                                                         presort='deprecated',\n",
      "                                                         random_state=None,\n",
      "                                                         splitter='best'),\n",
      "                   learning_rate=1, n_estimators=100, random_state=42)\n",
      "model score: 0.486\n",
      "\n",
      " -----------------------------------------------------------------------------------\n",
      "XGBClassifier(base_score=0.5, booster='gbtree', colsample_bylevel=1,\n",
      "              colsample_bynode=1, colsample_bytree=1, gamma=0, gpu_id=-1,\n",
      "              importance_type='gain', interaction_constraints='',\n",
      "              learning_rate=0.1, max_delta_step=0, max_depth=6,\n",
      "              min_child_weight=1, missing=nan, monotone_constraints='()',\n",
      "              n_estimators=100, n_jobs=0, num_parallel_tree=1,\n",
      "              objective='multi:softprob', random_state=0, reg_alpha=0,\n",
      "              reg_lambda=1, scale_pos_weight=None, subsample=1,\n",
      "              tree_method='exact', validate_parameters=1, verbosity=None)\n",
      "model score: 0.540\n",
      "\n",
      " -----------------------------------------------------------------------------------\n"
     ]
    }
   ],
   "source": [
    "#Names of the various classification approaches for easy presentation of the results\n",
    "names = [\"Logististic Regression\", \"Nearest Neighbors\", \"Linear SVM\", \"RBF SVM\",          \n",
    "         \"Decision Tree\", \"Naive Bayes\",\"Random Forest\",\"Bagging\",\"AdaBoost\",\"XGBClassifier\"]\n",
    "\n",
    "scores = [] \n",
    "\n",
    "classifiers = [\n",
    "    LogisticRegression(),\n",
    "    KNeighborsClassifier(3),\n",
    "    SVC(kernel=\"linear\", C=0.025),\n",
    "    SVC(gamma=2, C=1),   \n",
    "    DecisionTreeClassifier(max_depth=5),    \n",
    "    GaussianNB(),\n",
    "    RandomForestClassifier(n_estimators=100, criterion='entropy', verbose=True, n_jobs=3),\n",
    "    BaggingClassifier(),\n",
    "    AdaBoostClassifier(DecisionTreeClassifier(max_depth=5),\n",
    "            n_estimators=100, algorithm=\"SAMME.R\", learning_rate=1,\n",
    "            random_state=42),\n",
    "    XGBClassifier(learning_rate=0.1)]\n",
    "\n",
    "print(\"Model score using Word2Vec and different Classifiers:\")\n",
    "\n",
    "#Calculating accuracy using different classifiers\n",
    "for classifier in classifiers:\n",
    "    rf = Pipeline([('Word2Vec Vectorizer', MeanEmbeddingVectorizer(w2v)),('Classifier', classifier)])\n",
    "    rf.fit(X_train, Y_train)\n",
    "    print(classifier)\n",
    "    scores.append(rf.score(X_test, Y_test))\n",
    "    print(\"model score: %.3f\" % rf.score(X_test, Y_test))\n",
    "    print(\"\\n -----------------------------------------------------------------------------------\")\n",
    "    "
   ]
  },
  {
   "cell_type": "markdown",
   "metadata": {},
   "source": [
    "Based on the above results random forest classifier using TFIDVectorizer has highest accuracy, so we are using Random forest classifier for prediction analysis."
   ]
  },
  {
   "cell_type": "markdown",
   "metadata": {},
   "source": [
    "### Confusion Matrix using Random forest Classifier with TFIDF vectorizer"
   ]
  },
  {
   "cell_type": "code",
   "execution_count": 29,
   "metadata": {},
   "outputs": [
    {
     "name": "stderr",
     "output_type": "stream",
     "text": [
      "[Parallel(n_jobs=3)]: Using backend ThreadingBackend with 3 concurrent workers.\n",
      "[Parallel(n_jobs=3)]: Done  44 tasks      | elapsed:    0.3s\n",
      "[Parallel(n_jobs=3)]: Done 194 tasks      | elapsed:    1.6s\n",
      "[Parallel(n_jobs=3)]: Done 444 tasks      | elapsed:    3.6s\n",
      "[Parallel(n_jobs=3)]: Done 794 tasks      | elapsed:    6.6s\n",
      "[Parallel(n_jobs=3)]: Done 1244 tasks      | elapsed:   10.0s\n",
      "[Parallel(n_jobs=3)]: Done 1794 tasks      | elapsed:   14.5s\n",
      "[Parallel(n_jobs=3)]: Done 2444 tasks      | elapsed:   20.6s\n",
      "[Parallel(n_jobs=3)]: Done 3194 tasks      | elapsed:   27.0s\n",
      "[Parallel(n_jobs=3)]: Done 4044 tasks      | elapsed:   34.5s\n",
      "[Parallel(n_jobs=3)]: Done 4994 tasks      | elapsed:   43.3s\n",
      "[Parallel(n_jobs=3)]: Done 5000 out of 5000 | elapsed:   43.3s finished\n",
      "[Parallel(n_jobs=3)]: Using backend ThreadingBackend with 3 concurrent workers.\n",
      "[Parallel(n_jobs=3)]: Done  44 tasks      | elapsed:    0.0s\n",
      "[Parallel(n_jobs=3)]: Done 194 tasks      | elapsed:    0.2s\n",
      "[Parallel(n_jobs=3)]: Done 444 tasks      | elapsed:    0.6s\n",
      "[Parallel(n_jobs=3)]: Done 794 tasks      | elapsed:    1.4s\n",
      "[Parallel(n_jobs=3)]: Done 1244 tasks      | elapsed:    1.9s\n",
      "[Parallel(n_jobs=3)]: Done 1794 tasks      | elapsed:    2.7s\n",
      "[Parallel(n_jobs=3)]: Done 2444 tasks      | elapsed:    3.6s\n",
      "[Parallel(n_jobs=3)]: Done 3194 tasks      | elapsed:    4.6s\n",
      "[Parallel(n_jobs=3)]: Done 4044 tasks      | elapsed:    5.8s\n",
      "[Parallel(n_jobs=3)]: Done 4994 tasks      | elapsed:    7.3s\n",
      "[Parallel(n_jobs=3)]: Done 5000 out of 5000 | elapsed:    7.3s finished\n"
     ]
    },
    {
     "data": {
      "text/plain": [
       "<matplotlib.axes._subplots.AxesSubplot at 0x2c65e7e52c8>"
      ]
     },
     "execution_count": 29,
     "metadata": {},
     "output_type": "execute_result"
    },
    {
     "data": {
      "image/png": "[encoded data removed]",
      "text/plain": [
       "<Figure size 288x288 with 1 Axes>"
      ]
     },
     "metadata": {
      "needs_background": "light"
     },
     "output_type": "display_data"
    }
   ],
   "source": [
    "rfc=RandomForestClassifier(n_estimators=5000, criterion='entropy', verbose=True, n_jobs=3)\n",
    "rfc.fit(tfidf_train,Y_train)\n",
    "y_pred=rfc.predict(tfidf_test)\n",
    "\n",
    "data = confusion_matrix(Y_test, y_pred)\n",
    "df_cm = pd.DataFrame(data, columns=np.unique(Y_test), index = np.unique(Y_test))\n",
    "df_cm.index.name = 'Actual'\n",
    "df_cm.columns.name = 'Predicted'\n",
    "plt.figure(figsize = (4,4))\n",
    "sns.set(font_scale=1.2)#for label size\n",
    "sns.heatmap(df_cm, annot=True,annot_kws={\"size\": 12}, cbar=False,\n",
    "          vmax=500, square=True, fmt=\"d\", cmap=\"Reds\")# font size\n",
    "\n",
    "\n"
   ]
  },
  {
   "cell_type": "markdown",
   "metadata": {},
   "source": [
    "### Classification Report"
   ]
  },
  {
   "cell_type": "code",
   "execution_count": 30,
   "metadata": {},
   "outputs": [
    {
     "name": "stdout",
     "output_type": "stream",
     "text": [
      "              precision    recall  f1-score   support\n",
      "\n",
      "           0       0.69      0.80      0.74        79\n",
      "           1       0.62      0.72      0.67        76\n",
      "           2       0.68      0.51      0.58        87\n",
      "           3       0.53      0.78      0.63        85\n",
      "           4       1.00      0.45      0.62        51\n",
      "           5       0.83      0.55      0.66        44\n",
      "\n",
      "    accuracy                           0.65       422\n",
      "   macro avg       0.72      0.63      0.65       422\n",
      "weighted avg       0.69      0.65      0.65       422\n",
      "\n"
     ]
    }
   ],
   "source": [
    "from sklearn.metrics import classification_report\n",
    "print(classification_report(Y_test, y_pred))"
   ]
  },
  {
   "cell_type": "markdown",
   "metadata": {},
   "source": [
    "### Predicting salary based on the input"
   ]
  },
  {
   "cell_type": "code",
   "execution_count": 36,
   "metadata": {},
   "outputs": [],
   "source": [
    "#creating a new datafram with data from linkedIn\n",
    "df_new= pd.DataFrame({\"Job_Description\":[\"College / University Degree or equivalent in work experience CBAP or PBA certifications considered an asset 7 years’ experience as a Business Analyst 5 years’ insurance experience with exposure to underwriting processes Commercial insurance experience preferred Consulting background considered a strong asset Ability to clearly articulate complex business scenarios Experience in quality tools and continuous improvement methodologies Exposure to change management techniques Knowledge of industry standard  lifecycles and methods i.e. PMLC, SDLC / Waterfall, Hybrid, Agile Expert knowledge of Visio, Microsoft Word, PowerPoint, Excel and Access Excellent communication skills Excellent problem solving and analytical abilities\",\n",
    "                                        \" 3+ years of relevant experience in data analytics A degree in science, engineering, business or other quantitative discipline • Financial services experience especially related to digital marketing analytics • Strong critical thinking and problem-solving skills including the ability to leverage data to formulate solutions that address complex business problems • Experience with digital marketing platforms and tools including Google Marketing Platform (DoubleClick), Facebook, AdWords, Google Analytics, and Adobe Analytics • Experience in data manipulation (e.g. SQL) and visualization (e.g. Tableau, DOMO, Google Studio) • A broad understanding of digital marketing data, analytical tools and methods and knowledge of where analytics may add value to marketing and/or business• Previous experience with supporting data staging • A passion for analytics, high comfort level and interest in interpreting data and results; ability to tell stories with data and facts • Strong interpersonal skills with experience in driving productive collaboration with internal clients and cross-functional team members • An overall dedication to producing high quality work and desire to continuously learn, develop and do better\"]})"
   ]
  },
  {
   "cell_type": "code",
   "execution_count": 40,
   "metadata": {},
   "outputs": [
    {
     "data": {
      "text/html": [
       "<div>\n",
       "<style scoped>\n",
       "    .dataframe tbody tr th:only-of-type {\n",
       "        vertical-align: middle;\n",
       "    }\n",
       "\n",
       "    .dataframe tbody tr th {\n",
       "        vertical-align: top;\n",
       "    }\n",
       "\n",
       "    .dataframe thead th {\n",
       "        text-align: right;\n",
       "    }\n",
       "</style>\n",
       "<table border=\"1\" class=\"dataframe\">\n",
       "  <thead>\n",
       "    <tr style=\"text-align: right;\">\n",
       "      <th></th>\n",
       "      <th>Job_Description</th>\n",
       "    </tr>\n",
       "  </thead>\n",
       "  <tbody>\n",
       "    <tr>\n",
       "      <th>0</th>\n",
       "      <td>College / University Degree or equivalent in w...</td>\n",
       "    </tr>\n",
       "    <tr>\n",
       "      <th>1</th>\n",
       "      <td>3+ years of relevant experience in data analy...</td>\n",
       "    </tr>\n",
       "  </tbody>\n",
       "</table>\n",
       "</div>"
      ],
      "text/plain": [
       "                                     Job_Description\n",
       "0  College / University Degree or equivalent in w...\n",
       "1   3+ years of relevant experience in data analy..."
      ]
     },
     "execution_count": 40,
     "metadata": {},
     "output_type": "execute_result"
    }
   ],
   "source": [
    "df_new"
   ]
  },
  {
   "cell_type": "code",
   "execution_count": 38,
   "metadata": {},
   "outputs": [
    {
     "name": "stderr",
     "output_type": "stream",
     "text": [
      "[Parallel(n_jobs=3)]: Using backend ThreadingBackend with 3 concurrent workers.\n",
      "[Parallel(n_jobs=3)]: Done  44 tasks      | elapsed:    0.0s\n",
      "[Parallel(n_jobs=3)]: Done 194 tasks      | elapsed:    0.1s\n",
      "[Parallel(n_jobs=3)]: Done 444 tasks      | elapsed:    0.3s\n",
      "[Parallel(n_jobs=3)]: Done 794 tasks      | elapsed:    0.6s\n",
      "[Parallel(n_jobs=3)]: Done 1244 tasks      | elapsed:    1.0s\n",
      "[Parallel(n_jobs=3)]: Done 1794 tasks      | elapsed:    1.5s\n",
      "[Parallel(n_jobs=3)]: Done 2444 tasks      | elapsed:    2.0s\n",
      "[Parallel(n_jobs=3)]: Done 3194 tasks      | elapsed:    2.9s\n",
      "[Parallel(n_jobs=3)]: Done 4044 tasks      | elapsed:    3.6s\n",
      "[Parallel(n_jobs=3)]: Done 4994 tasks      | elapsed:    4.4s\n",
      "[Parallel(n_jobs=3)]: Done 5000 out of 5000 | elapsed:    4.4s finished\n"
     ]
    }
   ],
   "source": [
    "#Using TFID and Random Forest for predicing the salary\n",
    "tfidf = tfidf_vectorizer\n",
    "final_features = tfidf.transform(df_new[\"Job_Description\"])\n",
    "prediction = rfc.predict(final_features)"
   ]
  },
  {
   "cell_type": "code",
   "execution_count": 39,
   "metadata": {},
   "outputs": [
    {
     "name": "stdout",
     "output_type": "stream",
     "text": [
      "[3 3]\n"
     ]
    }
   ],
   "source": [
    "#Results\n",
    "print(prediction)"
   ]
  }
 ],
 "metadata": {
  "kernelspec": {
   "display_name": "Python 3",
   "language": "python",
   "name": "python3"
  },
  "language_info": {
   "codemirror_mode": {
    "name": "ipython",
    "version": 3
   },
   "file_extension": ".py",
   "mimetype": "text/x-python",
   "name": "python",
   "nbconvert_exporter": "python",
   "pygments_lexer": "ipython3",
   "version": "3.7.6"
  }
 },
 "nbformat": 4,
 "nbformat_minor": 4
}
